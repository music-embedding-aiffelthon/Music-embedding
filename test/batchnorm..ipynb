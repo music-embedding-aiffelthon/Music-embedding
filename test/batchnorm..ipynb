{
 "cells": [
  {
   "cell_type": "code",
   "execution_count": 2,
   "id": "2a2ea32b-b794-4e83-aec8-3a665474fc43",
   "metadata": {},
   "outputs": [
    {
     "name": "stdout",
     "output_type": "stream",
     "text": [
      "/home/anthonypark6904/CLR-module\n"
     ]
    }
   ],
   "source": [
    "%cd .."
   ]
  },
  {
   "cell_type": "code",
   "execution_count": 3,
   "id": "5c45af00-3647-4db3-b478-291be1818d82",
   "metadata": {},
   "outputs": [
    {
     "name": "stderr",
     "output_type": "stream",
     "text": [
      "2022-09-21 06:08:26.543890: W tensorflow/stream_executor/platform/default/dso_loader.cc:64] Could not load dynamic library 'libcudart.so.11.0'; dlerror: libcudart.so.11.0: cannot open shared object file: No such file or directory; LD_LIBRARY_PATH: :/usr/local/lib\n",
      "2022-09-21 06:08:26.578144: E tensorflow/stream_executor/cuda/cuda_blas.cc:2981] Unable to register cuBLAS factory: Attempting to register factory for plugin cuBLAS when one has already been registered\n",
      "2022-09-21 06:08:27.511974: W tensorflow/stream_executor/platform/default/dso_loader.cc:64] Could not load dynamic library 'libnvinfer.so.7'; dlerror: libnvinfer.so.7: cannot open shared object file: No such file or directory; LD_LIBRARY_PATH: :/usr/local/lib\n",
      "2022-09-21 06:08:27.512166: W tensorflow/stream_executor/platform/default/dso_loader.cc:64] Could not load dynamic library 'libnvinfer_plugin.so.7'; dlerror: libnvinfer_plugin.so.7: cannot open shared object file: No such file or directory; LD_LIBRARY_PATH: :/usr/local/lib\n",
      "2022-09-21 06:08:27.512179: W tensorflow/compiler/tf2tensorrt/utils/py_utils.cc:38] TF-TRT Warning: Cannot dlopen some TensorRT libraries. If you would like to use Nvidia GPU with TensorRT, please make sure the missing libraries mentioned above are installed properly.\n",
      "WARNING:absl:GlobalAsyncCheckpointManager is not imported correctly. Checkpointing of GlobalDeviceArrays will not be available.To use the feature, install tensorstore.\n"
     ]
    }
   ],
   "source": [
    "import flax \n",
    "import flax.linen as nn\n",
    "\n",
    "from flax import jax_utils\n",
    "from flax.training import train_state, common_utils, checkpoints\n",
    "from flax.core import freeze, unfreeze\n",
    "\n",
    "import os\n",
    "\n",
    "os.environ[\"TPU_CHIPS_PER_HOST_BOUNDS\"] = \"1,1,1\"\n",
    "os.environ[\"TPU_HOST_BOUNDS\"] = \"1,1,1\"\n",
    "# Different per process:\n",
    "os.environ[\"TPU_VISIBLE_DEVICES\"] = \"2\" \n",
    "# Pick a unique port per process\n",
    "os.environ[\"TPU_MESH_CONTROLLER_ADDRESS\"] = \"localhost:8476\"\n",
    "os.environ[\"TPU_MESH_CONTROLLER_PORT\"] = \"8476\""
   ]
  },
  {
   "cell_type": "code",
   "execution_count": 4,
   "id": "ee7634f6-0d13-4749-848e-8c066978cf72",
   "metadata": {},
   "outputs": [
    {
     "name": "stderr",
     "output_type": "stream",
     "text": [
      "/usr/local/lib/python3.8/dist-packages/tqdm/auto.py:22: TqdmWarning: IProgress not found. Please update jupyter and ipywidgets. See https://ipywidgets.readthedocs.io/en/stable/user_install.html\n",
      "  from .autonotebook import tqdm as notebook_tqdm\n"
     ]
    }
   ],
   "source": [
    "from trainer import *\n"
   ]
  },
  {
   "cell_type": "code",
   "execution_count": null,
   "id": "9ff83162-0d4d-4d4d-b912-ed24e7a623fb",
   "metadata": {},
   "outputs": [],
   "source": []
  },
  {
   "cell_type": "code",
   "execution_count": 42,
   "id": "30e7356b-4941-4fec-bc6d-e736e7a4dd5b",
   "metadata": {},
   "outputs": [],
   "source": [
    "class SimpleNet(nn.Module):\n",
    "    @nn.compact\n",
    "    def __call__(self, x):\n",
    "        metircs = {}\n",
    "        x = nn.normalization.BatchNorm(False)(x)\n",
    "        metrics['BatchNorm_1'] = x\n",
    "        x = nn.Dense(5)(x)\n",
    "        metrics['Dense'] = x\n",
    "        \n",
    "        x = nn.normalization.BatchNorm(True)(x)\n",
    "        metrics['BatchNorm_2'] = x\n",
    "        \n",
    "        return x, metrics"
   ]
  },
  {
   "cell_type": "code",
   "execution_count": 43,
   "id": "5d24df82-1883-4441-9830-e4000a433284",
   "metadata": {},
   "outputs": [],
   "source": [
    "import jax\n",
    "import jax.numpy as jnp"
   ]
  },
  {
   "cell_type": "code",
   "execution_count": 44,
   "id": "c015353d-fb17-4d74-bcb9-73c46fc129a7",
   "metadata": {},
   "outputs": [],
   "source": [
    "key = jax.random.PRNGKey(30)\n",
    "params = SimpleNet().init(key, jnp.ones((5,10)))"
   ]
  },
  {
   "cell_type": "code",
   "execution_count": 45,
   "id": "34e72dba-4660-4a0b-bde9-1e8bbe213eef",
   "metadata": {},
   "outputs": [
    {
     "data": {
      "text/plain": [
       "FrozenDict({\n",
       "    batch_stats: {\n",
       "        BatchNorm_0: {\n",
       "            mean: DeviceArray([0., 0., 0., 0., 0., 0., 0., 0., 0., 0.], dtype=float32),\n",
       "            var: DeviceArray([1., 1., 1., 1., 1., 1., 1., 1., 1., 1.], dtype=float32),\n",
       "        },\n",
       "        BatchNorm_1: {\n",
       "            mean: DeviceArray([0., 0., 0., 0., 0.], dtype=float32),\n",
       "            var: DeviceArray([1., 1., 1., 1., 1.], dtype=float32),\n",
       "        },\n",
       "    },\n",
       "    params: {\n",
       "        BatchNorm_0: {\n",
       "            scale: DeviceArray([1., 1., 1., 1., 1., 1., 1., 1., 1., 1.], dtype=float32),\n",
       "            bias: DeviceArray([0., 0., 0., 0., 0., 0., 0., 0., 0., 0.], dtype=float32),\n",
       "        },\n",
       "        Dense_0: {\n",
       "            kernel: DeviceArray([[ 0.4726773 ,  0.6936623 ,  0.6897993 , -0.19865191,\n",
       "                           0.22411938],\n",
       "                         [ 0.45619652,  0.06175263,  0.23109236, -0.06140082,\n",
       "                          -0.17739616],\n",
       "                         [-0.6689891 ,  0.21679907,  0.31855845, -0.19363695,\n",
       "                           0.10355341],\n",
       "                         [ 0.08745679, -0.31876284,  0.13403212,  0.37116167,\n",
       "                           0.02406026],\n",
       "                         [-0.12986858, -0.22254378, -0.3854767 ,  0.34023356,\n",
       "                           0.17838867],\n",
       "                         [ 0.09882776,  0.5551156 , -0.06988706,  0.2215045 ,\n",
       "                           0.07357081],\n",
       "                         [-0.24763915,  0.3415184 , -0.61188686,  0.23494542,\n",
       "                          -0.5515634 ],\n",
       "                         [-0.167404  ,  0.00584851, -0.08733849,  0.09865212,\n",
       "                           0.36055446],\n",
       "                         [ 0.3763538 ,  0.19936253, -0.14438985, -0.17702857,\n",
       "                           0.06496499],\n",
       "                         [ 0.19412953,  0.18677746,  0.23872927,  0.3632613 ,\n",
       "                          -0.6578194 ]], dtype=float32),\n",
       "            bias: DeviceArray([0., 0., 0., 0., 0.], dtype=float32),\n",
       "        },\n",
       "        BatchNorm_1: {\n",
       "            scale: DeviceArray([1., 1., 1., 1., 1.], dtype=float32),\n",
       "            bias: DeviceArray([0., 0., 0., 0., 0.], dtype=float32),\n",
       "        },\n",
       "    },\n",
       "})"
      ]
     },
     "execution_count": 45,
     "metadata": {},
     "output_type": "execute_result"
    }
   ],
   "source": [
    "params"
   ]
  },
  {
   "cell_type": "code",
   "execution_count": 46,
   "id": "14a4fabe-e025-4bc0-8717-335e6206c957",
   "metadata": {},
   "outputs": [
    {
     "ename": "ModifyScopeVariableError",
     "evalue": "Cannot update variable \"mean\" in \"/BatchNorm_0\" because collection \"batch_stats\" is immutable. (https://flax.readthedocs.io/en/latest/api_reference/flax.errors.html#flax.errors.ModifyScopeVariableError)",
     "output_type": "error",
     "traceback": [
      "\u001b[0;31m---------------------------------------------------------------------------\u001b[0m",
      "\u001b[0;31mModifyScopeVariableError\u001b[0m                  Traceback (most recent call last)",
      "Cell \u001b[0;32mIn [46], line 1\u001b[0m\n\u001b[0;32m----> 1\u001b[0m _, metrics \u001b[38;5;241m=\u001b[39m \u001b[43mSimpleNet\u001b[49m\u001b[43m(\u001b[49m\u001b[43m)\u001b[49m\u001b[38;5;241;43m.\u001b[39;49m\u001b[43mapply\u001b[49m\u001b[43m(\u001b[49m\u001b[43mparams\u001b[49m\u001b[43m,\u001b[49m\u001b[43m \u001b[49m\u001b[43mjax\u001b[49m\u001b[38;5;241;43m.\u001b[39;49m\u001b[43mrandom\u001b[49m\u001b[38;5;241;43m.\u001b[39;49m\u001b[43mnormal\u001b[49m\u001b[43m(\u001b[49m\u001b[43mkey\u001b[49m\u001b[43m,\u001b[49m\u001b[43m \u001b[49m\u001b[43m(\u001b[49m\u001b[38;5;241;43m5\u001b[39;49m\u001b[43m,\u001b[49m\u001b[38;5;241;43m10\u001b[39;49m\u001b[43m)\u001b[49m\u001b[43m)\u001b[49m\u001b[43m)\u001b[49m\n",
      "    \u001b[0;31m[... skipping hidden 6 frame]\u001b[0m\n",
      "Cell \u001b[0;32mIn [42], line 5\u001b[0m, in \u001b[0;36mSimpleNet.__call__\u001b[0;34m(self, x)\u001b[0m\n\u001b[1;32m      2\u001b[0m \u001b[38;5;129m@nn\u001b[39m\u001b[38;5;241m.\u001b[39mcompact\n\u001b[1;32m      3\u001b[0m \u001b[38;5;28;01mdef\u001b[39;00m \u001b[38;5;21m__call__\u001b[39m(\u001b[38;5;28mself\u001b[39m, x):\n\u001b[1;32m      4\u001b[0m     metircs \u001b[38;5;241m=\u001b[39m {}\n\u001b[0;32m----> 5\u001b[0m     x \u001b[38;5;241m=\u001b[39m \u001b[43mnn\u001b[49m\u001b[38;5;241;43m.\u001b[39;49m\u001b[43mnormalization\u001b[49m\u001b[38;5;241;43m.\u001b[39;49m\u001b[43mBatchNorm\u001b[49m\u001b[43m(\u001b[49m\u001b[38;5;28;43;01mFalse\u001b[39;49;00m\u001b[43m)\u001b[49m\u001b[43m(\u001b[49m\u001b[43mx\u001b[49m\u001b[43m)\u001b[49m\n\u001b[1;32m      6\u001b[0m     metrics[\u001b[38;5;124m'\u001b[39m\u001b[38;5;124mBatchNorm_1\u001b[39m\u001b[38;5;124m'\u001b[39m] \u001b[38;5;241m=\u001b[39m x\n\u001b[1;32m      7\u001b[0m     x \u001b[38;5;241m=\u001b[39m nn\u001b[38;5;241m.\u001b[39mDense(\u001b[38;5;241m5\u001b[39m)(x)\n",
      "    \u001b[0;31m[... skipping hidden 2 frame]\u001b[0m\n",
      "File \u001b[0;32m/usr/local/lib/python3.8/dist-packages/flax/linen/normalization.py:268\u001b[0m, in \u001b[0;36mBatchNorm.__call__\u001b[0;34m(self, x, use_running_average)\u001b[0m\n\u001b[1;32m    261\u001b[0m   mean, var \u001b[38;5;241m=\u001b[39m _compute_stats(\n\u001b[1;32m    262\u001b[0m       x, reduction_axes,\n\u001b[1;32m    263\u001b[0m       dtype\u001b[38;5;241m=\u001b[39m\u001b[38;5;28mself\u001b[39m\u001b[38;5;241m.\u001b[39mdtype,\n\u001b[1;32m    264\u001b[0m       axis_name\u001b[38;5;241m=\u001b[39m\u001b[38;5;28mself\u001b[39m\u001b[38;5;241m.\u001b[39maxis_name \u001b[38;5;28;01mif\u001b[39;00m \u001b[38;5;129;01mnot\u001b[39;00m initializing \u001b[38;5;28;01melse\u001b[39;00m \u001b[38;5;28;01mNone\u001b[39;00m,\n\u001b[1;32m    265\u001b[0m       axis_index_groups\u001b[38;5;241m=\u001b[39m\u001b[38;5;28mself\u001b[39m\u001b[38;5;241m.\u001b[39maxis_index_groups)\n\u001b[1;32m    267\u001b[0m   \u001b[38;5;28;01mif\u001b[39;00m \u001b[38;5;129;01mnot\u001b[39;00m initializing:\n\u001b[0;32m--> 268\u001b[0m     \u001b[43mra_mean\u001b[49m\u001b[38;5;241;43m.\u001b[39;49m\u001b[43mvalue\u001b[49m \u001b[38;5;241m=\u001b[39m \u001b[38;5;28mself\u001b[39m\u001b[38;5;241m.\u001b[39mmomentum \u001b[38;5;241m*\u001b[39m ra_mean\u001b[38;5;241m.\u001b[39mvalue \u001b[38;5;241m+\u001b[39m (\u001b[38;5;241m1\u001b[39m \u001b[38;5;241m-\u001b[39m\n\u001b[1;32m    269\u001b[0m                                                      \u001b[38;5;28mself\u001b[39m\u001b[38;5;241m.\u001b[39mmomentum) \u001b[38;5;241m*\u001b[39m mean\n\u001b[1;32m    270\u001b[0m     ra_var\u001b[38;5;241m.\u001b[39mvalue \u001b[38;5;241m=\u001b[39m \u001b[38;5;28mself\u001b[39m\u001b[38;5;241m.\u001b[39mmomentum \u001b[38;5;241m*\u001b[39m ra_var\u001b[38;5;241m.\u001b[39mvalue \u001b[38;5;241m+\u001b[39m (\u001b[38;5;241m1\u001b[39m \u001b[38;5;241m-\u001b[39m \u001b[38;5;28mself\u001b[39m\u001b[38;5;241m.\u001b[39mmomentum) \u001b[38;5;241m*\u001b[39m var\n\u001b[1;32m    272\u001b[0m \u001b[38;5;28;01mreturn\u001b[39;00m _normalize(\n\u001b[1;32m    273\u001b[0m     \u001b[38;5;28mself\u001b[39m, x, mean, var, reduction_axes, feature_axes,\n\u001b[1;32m    274\u001b[0m     \u001b[38;5;28mself\u001b[39m\u001b[38;5;241m.\u001b[39mdtype, \u001b[38;5;28mself\u001b[39m\u001b[38;5;241m.\u001b[39mparam_dtype, \u001b[38;5;28mself\u001b[39m\u001b[38;5;241m.\u001b[39mepsilon,\n\u001b[1;32m    275\u001b[0m     \u001b[38;5;28mself\u001b[39m\u001b[38;5;241m.\u001b[39muse_bias, \u001b[38;5;28mself\u001b[39m\u001b[38;5;241m.\u001b[39muse_scale,\n\u001b[1;32m    276\u001b[0m     \u001b[38;5;28mself\u001b[39m\u001b[38;5;241m.\u001b[39mbias_init, \u001b[38;5;28mself\u001b[39m\u001b[38;5;241m.\u001b[39mscale_init)\n",
      "    \u001b[0;31m[... skipping hidden 1 frame]\u001b[0m\n",
      "File \u001b[0;32m/usr/local/lib/python3.8/dist-packages/flax/core/scope.py:697\u001b[0m, in \u001b[0;36mScope.put_variable\u001b[0;34m(self, col, name, value)\u001b[0m\n\u001b[1;32m    695\u001b[0m \u001b[38;5;28mself\u001b[39m\u001b[38;5;241m.\u001b[39m_validate_trace_level()\n\u001b[1;32m    696\u001b[0m \u001b[38;5;28;01mif\u001b[39;00m \u001b[38;5;129;01mnot\u001b[39;00m \u001b[38;5;28mself\u001b[39m\u001b[38;5;241m.\u001b[39mis_mutable_collection(col):\n\u001b[0;32m--> 697\u001b[0m   \u001b[38;5;28;01mraise\u001b[39;00m errors\u001b[38;5;241m.\u001b[39mModifyScopeVariableError(col, name, \u001b[38;5;28mself\u001b[39m\u001b[38;5;241m.\u001b[39mpath_text)\n\u001b[1;32m    698\u001b[0m variables \u001b[38;5;241m=\u001b[39m \u001b[38;5;28mself\u001b[39m\u001b[38;5;241m.\u001b[39m_mutable_collection(col)\n\u001b[1;32m    699\u001b[0m \u001b[38;5;66;03m# Make sure reference sharing of child variable dictionaries isn't broken\u001b[39;00m\n",
      "\u001b[0;31mModifyScopeVariableError\u001b[0m: Cannot update variable \"mean\" in \"/BatchNorm_0\" because collection \"batch_stats\" is immutable. (https://flax.readthedocs.io/en/latest/api_reference/flax.errors.html#flax.errors.ModifyScopeVariableError)"
     ]
    }
   ],
   "source": [
    "_, metrics = SimpleNet().apply(params, jax.random.normal(key, (5,10)))"
   ]
  },
  {
   "cell_type": "code",
   "execution_count": 47,
   "id": "4ca76a4c-e57d-4746-96fc-ed890660cdf9",
   "metadata": {},
   "outputs": [
    {
     "data": {
      "text/plain": [
       "{'BatchNorm_2': DeviceArray([[0., 0., 0., 0., 0.],\n",
       "              [0., 0., 0., 0., 0.],\n",
       "              [0., 0., 0., 0., 0.],\n",
       "              [0., 0., 0., 0., 0.],\n",
       "              [0., 0., 0., 0., 0.]], dtype=float32),\n",
       " 'BatchNorm_1': DeviceArray([[0., 0., 0., 0., 0., 0., 0., 0., 0., 0.],\n",
       "              [0., 0., 0., 0., 0., 0., 0., 0., 0., 0.],\n",
       "              [0., 0., 0., 0., 0., 0., 0., 0., 0., 0.],\n",
       "              [0., 0., 0., 0., 0., 0., 0., 0., 0., 0.],\n",
       "              [0., 0., 0., 0., 0., 0., 0., 0., 0., 0.]], dtype=float32),\n",
       " 'Dense': DeviceArray([[0., 0., 0., 0., 0.],\n",
       "              [0., 0., 0., 0., 0.],\n",
       "              [0., 0., 0., 0., 0.],\n",
       "              [0., 0., 0., 0., 0.],\n",
       "              [0., 0., 0., 0., 0.]], dtype=float32)}"
      ]
     },
     "execution_count": 47,
     "metadata": {},
     "output_type": "execute_result"
    }
   ],
   "source": [
    "metrics"
   ]
  },
  {
   "cell_type": "code",
   "execution_count": 49,
   "id": "e236e70a-abdf-4c54-bafd-637bfd2bb400",
   "metadata": {},
   "outputs": [
    {
     "data": {
      "text/plain": [
       "(16, 512)"
      ]
     },
     "execution_count": 49,
     "metadata": {},
     "output_type": "execute_result"
    }
   ],
   "source": [
    "jnp.mean(jnp.ones((16, 10, 20, 512)), axis=[1,2]).shape"
   ]
  },
  {
   "cell_type": "code",
   "execution_count": null,
   "id": "e1e433d9-cbb4-42c1-80b1-dc1899672596",
   "metadata": {},
   "outputs": [],
   "source": []
  }
 ],
 "metadata": {
  "kernelspec": {
   "display_name": "Python 3 (ipykernel)",
   "language": "python",
   "name": "python3"
  },
  "language_info": {
   "codemirror_mode": {
    "name": "ipython",
    "version": 3
   },
   "file_extension": ".py",
   "mimetype": "text/x-python",
   "name": "python",
   "nbconvert_exporter": "python",
   "pygments_lexer": "ipython3",
   "version": "3.8.10"
  }
 },
 "nbformat": 4,
 "nbformat_minor": 5
}
