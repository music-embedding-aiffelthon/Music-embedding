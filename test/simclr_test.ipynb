{
 "cells": [
  {
   "cell_type": "code",
   "execution_count": 1,
   "id": "1b7dd068-8230-46aa-8e1b-611d12109a44",
   "metadata": {},
   "outputs": [
    {
     "name": "stderr",
     "output_type": "stream",
     "text": [
      "/usr/local/lib/python3.8/dist-packages/tqdm/auto.py:22: TqdmWarning: IProgress not found. Please update jupyter and ipywidgets. See https://ipywidgets.readthedocs.io/en/stable/user_install.html\n",
      "  from .autonotebook import tqdm as notebook_tqdm\n",
      "WARNING:absl:No GPU/TPU found, falling back to CPU. (Set TF_CPP_MIN_LOG_LEVEL=0 and rerun for more info.)\n",
      "2022-09-20 03:50:42.218564: W tensorflow/stream_executor/platform/default/dso_loader.cc:64] Could not load dynamic library 'libcudart.so.11.0'; dlerror: libcudart.so.11.0: cannot open shared object file: No such file or directory; LD_LIBRARY_PATH: :/usr/local/lib\n",
      "2022-09-20 03:50:42.245538: E tensorflow/stream_executor/cuda/cuda_blas.cc:2981] Unable to register cuBLAS factory: Attempting to register factory for plugin cuBLAS when one has already been registered\n",
      "2022-09-20 03:50:42.917053: W tensorflow/stream_executor/platform/default/dso_loader.cc:64] Could not load dynamic library 'libnvinfer.so.7'; dlerror: libnvinfer.so.7: cannot open shared object file: No such file or directory; LD_LIBRARY_PATH: :/usr/local/lib\n",
      "2022-09-20 03:50:42.917168: W tensorflow/stream_executor/platform/default/dso_loader.cc:64] Could not load dynamic library 'libnvinfer_plugin.so.7'; dlerror: libnvinfer_plugin.so.7: cannot open shared object file: No such file or directory; LD_LIBRARY_PATH: :/usr/local/lib\n",
      "2022-09-20 03:50:42.917178: W tensorflow/compiler/tf2tensorrt/utils/py_utils.cc:38] TF-TRT Warning: Cannot dlopen some TensorRT libraries. If you would like to use Nvidia GPU with TensorRT, please make sure the missing libraries mentioned above are installed properly.\n",
      "WARNING:absl:GlobalAsyncCheckpointManager is not imported correctly. Checkpointing of GlobalDeviceArrays will not be available.To use the feature, install tensorstore.\n",
      "wandb: Currently logged in as: seegong (aiffelthon). Use `wandb login --relogin` to force relogin\n"
     ]
    },
    {
     "data": {
      "text/html": [
       "Tracking run with wandb version 0.13.3"
      ],
      "text/plain": [
       "<IPython.core.display.HTML object>"
      ]
     },
     "metadata": {},
     "output_type": "display_data"
    },
    {
     "data": {
      "text/html": [
       "Run data is saved locally in <code>/home/anthonypark6904/CLR-module/wandb/run-20220920_035045-8yaqo0c1</code>"
      ],
      "text/plain": [
       "<IPython.core.display.HTML object>"
      ]
     },
     "metadata": {},
     "output_type": "display_data"
    },
    {
     "data": {
      "text/html": [
       "Syncing run <strong><a href=\"https://wandb.ai/aiffelthon/CLR/runs/8yaqo0c1\" target=\"_blank\">stilted-jazz-129</a></strong> to <a href=\"https://wandb.ai/aiffelthon/CLR\" target=\"_blank\">Weights & Biases</a> (<a href=\"https://wandb.me/run\" target=\"_blank\">docs</a>)<br/>"
      ],
      "text/plain": [
       "<IPython.core.display.HTML object>"
      ]
     },
     "metadata": {},
     "output_type": "display_data"
    },
    {
     "data": {
      "text/html": [
       "<button onClick=\"this.nextSibling.style.display='block';this.style.display='none';\">Display W&B run</button><iframe src=\"https://wandb.ai/aiffelthon/CLR/runs/8yaqo0c1?jupyter=true\" style=\"border:none;width:100%;height:420px;display:none;\"></iframe>"
      ],
      "text/plain": [
       "<wandb.sdk.wandb_run.Run at 0x7f73721329a0>"
      ]
     },
     "execution_count": 1,
     "metadata": {},
     "output_type": "execute_result"
    }
   ],
   "source": [
    "from utils import augment\n",
    "from utils.augment import *\n",
    "\n",
    "from trainer import *\n",
    "\n",
    "import jax.numpy as jnp\n",
    "import jax\n",
    "import flax.linen as nn\n",
    "import numpy as np\n",
    "import random\n",
    "from torch.utils.data import DataLoader, random_split\n",
    "import matplotlib.pyplot as plt\n",
    "import torch.nn.functional as F\n",
    "import torch\n",
    "from utils.dataloader import mel_dataset\n",
    "\n",
    "wandb.init(\n",
    "project='CLR',\n",
    "entity='aiffelthon'\n",
    ")"
   ]
  },
  {
   "cell_type": "code",
   "execution_count": 2,
   "id": "30cdbf60-4e4a-47a2-a671-654af1137621",
   "metadata": {},
   "outputs": [
    {
     "name": "stdout",
     "output_type": "stream",
     "text": [
      "Load song_meta.json...\n"
     ]
    },
    {
     "name": "stderr",
     "output_type": "stream",
     "text": [
      "100%|███████████████████████████████| 707989/707989 [00:01<00:00, 656052.75it/s]\n"
     ]
    },
    {
     "name": "stdout",
     "output_type": "stream",
     "text": [
      "Load complete!\n",
      "\n",
      "Load file list...\n"
     ]
    },
    {
     "name": "stderr",
     "output_type": "stream",
     "text": [
      "4it [00:00, 21.46it/s]\n"
     ]
    }
   ],
   "source": [
    "data = mel_dataset('/mnt/disks/sdb/dev_dataset', 'total')"
   ]
  },
  {
   "cell_type": "code",
   "execution_count": 3,
   "id": "3b703533-7908-4753-9aec-60bcf01def2e",
   "metadata": {},
   "outputs": [],
   "source": [
    "mix = MixupBYOLA()\n",
    "crop = RandomResizeCrop()"
   ]
  },
  {
   "cell_type": "code",
   "execution_count": 4,
   "id": "fa6d2bb7-dc7d-41d6-910e-84eeaa1fe376",
   "metadata": {},
   "outputs": [],
   "source": [
    "def collate_batch(batch):\n",
    "    x_train_1 = []\n",
    "    x_train_2 = []\n",
    "    \n",
    "    for x, y in batch:\n",
    "        x = (np.array(x)+127)/100\n",
    "        x = np.expand_dims(x, axis=-1)\n",
    "        x = crop(mix(x))        \n",
    "        x_train_1.append(x)\n",
    "        \n",
    "    for x, y in batch:\n",
    "        x = (np.array(x)+127)/100\n",
    "        x = np.expand_dims(x, axis=-1)\n",
    "        x = crop(mix(x))        \n",
    "        x_train_2.append(x)\n",
    "            \n",
    "    y_train = [y for _, y in batch]           \n",
    "    return augment.post_norm(np.stack(x_train_1 + x_train_2, axis=0)), np.array(y_train)"
   ]
  },
  {
   "cell_type": "code",
   "execution_count": 5,
   "id": "1651f3e2-3f58-486c-9b12-c37f2f60ef6a",
   "metadata": {},
   "outputs": [],
   "source": [
    "dataset_size = len(data)\n",
    "train_size = int(dataset_size * 0.8)    \n",
    "test_size = dataset_size - train_size\n",
    "\n",
    "train_dataset, test_dataset, = random_split(data, [train_size, test_size])\n",
    "\n",
    "train_dataloader = DataLoader(train_dataset, batch_size=64, shuffle=True, num_workers=0, collate_fn=collate_batch)\n",
    "test_dataloader = DataLoader(test_dataset, batch_size=64, shuffle=True, num_workers=0, collate_fn=collate_batch)"
   ]
  },
  {
   "cell_type": "code",
   "execution_count": 6,
   "id": "cc09ee44-a00e-44a8-a39b-930fc1122a16",
   "metadata": {},
   "outputs": [],
   "source": [
    "def train_simclr(num_epochs, **kwargs):\n",
    "    # Create a trainer module with specified hyperparameters\n",
    "    trainer = AudioEncoderTrainer(exmp=jnp.ones((128,48,1876,1)))\n",
    "    trainer.train_model(train_dataloader, test_dataloader, num_epochs=num_epochs)\n",
    "\n",
    "    return trainer"
   ]
  },
  {
   "cell_type": "code",
   "execution_count": 7,
   "id": "13aa287d-45ec-4025-bb42-96158690438b",
   "metadata": {},
   "outputs": [
    {
     "name": "stderr",
     "output_type": "stream",
     "text": [
      "tcmalloc: large alloc 1660436480 bytes == 0x8fa3a000 @  0x7f738513c680 0x7f738515d824 0x7f7231f8e045 0x7f7231fa4441 0x7f7231fa53b0 0x7f7231fa5dab 0x7f723202eadb 0x7f723202ff59 0x7f7232030718 0x7f73679ae096 0x7f7231819acd 0x7f72317532a9 0x7f723151c7fd 0x7f7231505781 0x5f6929 0x5f74f6 0x50c383 0x570b26 0x569dba 0x5f6eb3 0x5f8892 0x66931d 0x5f627e 0x56d2d5 0x569dba 0x5f6eb3 0x5f6082 0x56d2d5 0x569dba 0x5f6eb3 0x5f8892\n",
      "tcmalloc: large alloc 1660436480 bytes == 0x84a58000 @  0x7f738513c680 0x7f738515d824 0x7f7231f8e045 0x7f7231fa4441 0x7f7231fa53b0 0x7f7231fa5dab 0x7f723202eadb 0x7f723202ff59 0x7f7232030718 0x7f73679ae096 0x7f7231819acd 0x7f72317532a9 0x7f723151c7fd 0x7f7231505781 0x5f6929 0x5f74f6 0x50c383 0x570b26 0x569dba 0x5f6eb3 0x5f8892 0x66931d 0x5f627e 0x56d2d5 0x569dba 0x5f6eb3 0x5f6082 0x56d2d5 0x569dba 0x5f6eb3 0x5f8892\n",
      "tcmalloc: large alloc 1660436480 bytes == 0x84a58000 @  0x7f738513c680 0x7f738515d824 0x7f7231f8e045 0x7f7231fa4441 0x7f7231fa53b0 0x7f7231fa5dab 0x7f723202eadb 0x7f723202ff59 0x7f7232030718 0x7f73679ae096 0x7f7231819acd 0x7f72317532a9 0x7f723151c7fd 0x7f7231505781 0x5f6929 0x5f74f6 0x50c383 0x570b26 0x569dba 0x5f6eb3 0x5f8892 0x66931d 0x5f627e 0x56d2d5 0x569dba 0x5f6eb3 0x5f6082 0x56d2d5 0x569dba 0x5f6eb3 0x5f8892\n",
      "tcmalloc: large alloc 1660436480 bytes == 0x84a58000 @  0x7f738513c680 0x7f738515d824 0x7f7231f8e045 0x7f7231fa4441 0x7f7231fa53b0 0x7f7231fa5dab 0x7f723202eadb 0x7f723202ff59 0x7f7232030718 0x7f73679ae096 0x7f7231819acd 0x7f72317532a9 0x7f723151c7fd 0x7f7231505781 0x5f6929 0x5f74f6 0x50c383 0x570b26 0x569dba 0x5f6eb3 0x5f8892 0x66931d 0x5f627e 0x56d2d5 0x569dba 0x5f6eb3 0x5f6082 0x56d2d5 0x569dba 0x5f6eb3 0x5f8892\n",
      "Epoch 1:   0%|                                           | 0/22 [00:00<?, ?it/s]tcmalloc: large alloc 9006112768 bytes == 0x135c26000 @  0x7f738513c680 0x7f738515d824 0x7f738515db8a 0x7f7236099a8c 0x7f7231815b35 0x7f7231819acd 0x7f72317532a9 0x7f723151c7fd 0x7f7231505781 0x5f6929 0x5f74f6 0x50c383 0x570b26 0x569dba 0x5f6eb3 0x5f882b 0x66931d 0x5f627e 0x56d2d5 0x569dba 0x5f6eb3 0x5f6082 0x56d2d5 0x5f6cd6 0x56bbfa 0x569dba 0x5f6eb3 0x5f6082 0x56d2d5 0x569dba 0x5f6eb3\n",
      "Epoch 1:   5%|█▌                                 | 1/22 [00:47<16:38, 47.56s/it]tcmalloc: large alloc 9006112768 bytes == 0x135c26000 @  0x7f738513c680 0x7f738515d824 0x7f738515db8a 0x7f7236099a8c 0x7f7231815b35 0x7f7231819acd 0x7f72315ab6d0 0x7f72315acc74 0x5f74f6 0x571164 0x569dba 0x50bca0 0x56cc1f 0x569dba 0x50bca0 0x56cc1f 0x569dba 0x5f6eb3 0x56cc1f 0x569dba 0x6902a7 0x6023c4 0x5c6730 0x56bacd 0x501488 0x56d4d6 0x501488 0x56d4d6 0x501488 0x505166 0x56bbfa\n",
      "Epoch 1:   9%|███▏                               | 2/22 [01:09<10:50, 32.51s/it]tcmalloc: large alloc 9006112768 bytes == 0x135c26000 @  0x7f738513c680 0x7f738515d824 0x7f738515db8a 0x7f7236099a8c 0x7f7231815b35 0x7f7231819acd 0x7f72315ab6d0 0x7f72315acc74 0x5f74f6 0x571164 0x569dba 0x50bca0 0x56cc1f 0x569dba 0x50bca0 0x56cc1f 0x569dba 0x5f6eb3 0x56cc1f 0x569dba 0x6902a7 0x6023c4 0x5c6730 0x56bacd 0x501488 0x56d4d6 0x501488 0x56d4d6 0x501488 0x505166 0x56bbfa\n",
      "Epoch 1:  14%|████▊                              | 3/22 [01:30<08:40, 27.42s/it]tcmalloc: large alloc 9006112768 bytes == 0x135c26000 @  0x7f738513c680 0x7f738515d824 0x7f738515db8a 0x7f7236099a8c 0x7f7231815b35 0x7f7231819acd 0x7f72315ab6d0 0x7f72315acc74 0x5f74f6 0x571164 0x569dba 0x50bca0 0x56cc1f 0x569dba 0x50bca0 0x56cc1f 0x569dba 0x5f6eb3 0x56cc1f 0x569dba 0x6902a7 0x6023c4 0x5c6730 0x56bacd 0x501488 0x56d4d6 0x501488 0x56d4d6 0x501488 0x505166 0x56bbfa\n",
      "Epoch 1:  18%|██████▎                            | 4/22 [01:52<07:31, 25.10s/it]tcmalloc: large alloc 9006112768 bytes == 0x135c26000 @  0x7f738513c680 0x7f738515d824 0x7f738515db8a 0x7f7236099a8c 0x7f7231815b35 0x7f7231819acd 0x7f72315ab6d0 0x7f72315acc74 0x5f74f6 0x571164 0x569dba 0x50bca0 0x56cc1f 0x569dba 0x50bca0 0x56cc1f 0x569dba 0x5f6eb3 0x56cc1f 0x569dba 0x6902a7 0x6023c4 0x5c6730 0x56bacd 0x501488 0x56d4d6 0x501488 0x56d4d6 0x501488 0x505166 0x56bbfa\n",
      "Epoch 1:  23%|███████▉                           | 5/22 [02:13<06:42, 23.70s/it]tcmalloc: large alloc 9006112768 bytes == 0x135c26000 @  0x7f738513c680 0x7f738515d824 0x7f738515db8a 0x7f7236099a8c 0x7f7231815b35 0x7f7231819acd 0x7f72315ab6d0 0x7f72315acc74 0x5f74f6 0x571164 0x569dba 0x50bca0 0x56cc1f 0x569dba 0x50bca0 0x56cc1f 0x569dba 0x5f6eb3 0x56cc1f 0x569dba 0x6902a7 0x6023c4 0x5c6730 0x56bacd 0x501488 0x56d4d6 0x501488 0x56d4d6 0x501488 0x505166 0x56bbfa\n",
      "Epoch 1:  27%|█████████▌                         | 6/22 [02:35<06:08, 23.01s/it]tcmalloc: large alloc 9006112768 bytes == 0x135c26000 @  0x7f738513c680 0x7f738515d824 0x7f738515db8a 0x7f7236099a8c 0x7f7231815b35 0x7f7231819acd 0x7f72315ab6d0 0x7f72315acc74 0x5f74f6 0x571164 0x569dba 0x50bca0 0x56cc1f 0x569dba 0x50bca0 0x56cc1f 0x569dba 0x5f6eb3 0x56cc1f 0x569dba 0x6902a7 0x6023c4 0x5c6730 0x56bacd 0x501488 0x56d4d6 0x501488 0x56d4d6 0x501488 0x505166 0x56bbfa\n",
      "Epoch 1:  32%|███████████▏                       | 7/22 [02:55<05:33, 22.21s/it]tcmalloc: large alloc 9006112768 bytes == 0x135c26000 @  0x7f738513c680 0x7f738515d824 0x7f738515db8a 0x7f7236099a8c 0x7f7231815b35 0x7f7231819acd 0x7f72315ab6d0 0x7f72315acc74 0x5f74f6 0x571164 0x569dba 0x50bca0 0x56cc1f 0x569dba 0x50bca0 0x56cc1f 0x569dba 0x5f6eb3 0x56cc1f 0x569dba 0x6902a7 0x6023c4 0x5c6730 0x56bacd 0x501488 0x56d4d6 0x501488 0x56d4d6 0x501488 0x505166 0x56bbfa\n",
      "Epoch 1:  36%|████████████▋                      | 8/22 [03:16<05:04, 21.73s/it]tcmalloc: large alloc 9006112768 bytes == 0x135c26000 @  0x7f738513c680 0x7f738515d824 0x7f738515db8a 0x7f7236099a8c 0x7f7231815b35 0x7f7231819acd 0x7f72315ab6d0 0x7f72315acc74 0x5f74f6 0x571164 0x569dba 0x50bca0 0x56cc1f 0x569dba 0x50bca0 0x56cc1f 0x569dba 0x5f6eb3 0x56cc1f 0x569dba 0x6902a7 0x6023c4 0x5c6730 0x56bacd 0x501488 0x56d4d6 0x501488 0x56d4d6 0x501488 0x505166 0x56bbfa\n",
      "Epoch 1:  41%|██████████████▎                    | 9/22 [03:37<04:38, 21.40s/it]tcmalloc: large alloc 9006112768 bytes == 0x135c26000 @  0x7f738513c680 0x7f738515d824 0x7f738515db8a 0x7f7236099a8c 0x7f7231815b35 0x7f7231819acd 0x7f72315ab6d0 0x7f72315acc74 0x5f74f6 0x571164 0x569dba 0x50bca0 0x56cc1f 0x569dba 0x50bca0 0x56cc1f 0x569dba 0x5f6eb3 0x56cc1f 0x569dba 0x6902a7 0x6023c4 0x5c6730 0x56bacd 0x501488 0x56d4d6 0x501488 0x56d4d6 0x501488 0x505166 0x56bbfa\n",
      "Epoch 1:  45%|███████████████▍                  | 10/22 [03:58<04:14, 21.22s/it]tcmalloc: large alloc 9006112768 bytes == 0x135c26000 @  0x7f738513c680 0x7f738515d824 0x7f738515db8a 0x7f7236099a8c 0x7f7231815b35 0x7f7231819acd 0x7f72315ab6d0 0x7f72315acc74 0x5f74f6 0x571164 0x569dba 0x50bca0 0x56cc1f 0x569dba 0x50bca0 0x56cc1f 0x569dba 0x5f6eb3 0x56cc1f 0x569dba 0x6902a7 0x6023c4 0x5c6730 0x56bacd 0x501488 0x56d4d6 0x501488 0x56d4d6 0x501488 0x505166 0x56bbfa\n",
      "Epoch 1:  50%|█████████████████                 | 11/22 [04:19<03:52, 21.14s/it]tcmalloc: large alloc 9006112768 bytes == 0x135c26000 @  0x7f738513c680 0x7f738515d824 0x7f738515db8a 0x7f7236099a8c 0x7f7231815b35 0x7f7231819acd 0x7f72315ab6d0 0x7f72315acc74 0x5f74f6 0x571164 0x569dba 0x50bca0 0x56cc1f 0x569dba 0x50bca0 0x56cc1f 0x569dba 0x5f6eb3 0x56cc1f 0x569dba 0x6902a7 0x6023c4 0x5c6730 0x56bacd 0x501488 0x56d4d6 0x501488 0x56d4d6 0x501488 0x505166 0x56bbfa\n",
      "Epoch 1:  55%|██████████████████▌               | 12/22 [04:40<03:31, 21.17s/it]tcmalloc: large alloc 9006112768 bytes == 0x135c26000 @  0x7f738513c680 0x7f738515d824 0x7f738515db8a 0x7f7236099a8c 0x7f7231815b35 0x7f7231819acd 0x7f72315ab6d0 0x7f72315acc74 0x5f74f6 0x571164 0x569dba 0x50bca0 0x56cc1f 0x569dba 0x50bca0 0x56cc1f 0x569dba 0x5f6eb3 0x56cc1f 0x569dba 0x6902a7 0x6023c4 0x5c6730 0x56bacd 0x501488 0x56d4d6 0x501488 0x56d4d6 0x501488 0x505166 0x56bbfa\n",
      "Epoch 1:  59%|████████████████████              | 13/22 [05:00<03:08, 20.97s/it]tcmalloc: large alloc 9006112768 bytes == 0x135c26000 @  0x7f738513c680 0x7f738515d824 0x7f738515db8a 0x7f7236099a8c 0x7f7231815b35 0x7f7231819acd 0x7f72315ab6d0 0x7f72315acc74 0x5f74f6 0x571164 0x569dba 0x50bca0 0x56cc1f 0x569dba 0x50bca0 0x56cc1f 0x569dba 0x5f6eb3 0x56cc1f 0x569dba 0x6902a7 0x6023c4 0x5c6730 0x56bacd 0x501488 0x56d4d6 0x501488 0x56d4d6 0x501488 0x505166 0x56bbfa\n",
      "Epoch 1:  64%|█████████████████████▋            | 14/22 [05:21<02:47, 21.00s/it]tcmalloc: large alloc 9006112768 bytes == 0x135c26000 @  0x7f738513c680 0x7f738515d824 0x7f738515db8a 0x7f7236099a8c 0x7f7231815b35 0x7f7231819acd 0x7f72315ab6d0 0x7f72315acc74 0x5f74f6 0x571164 0x569dba 0x50bca0 0x56cc1f 0x569dba 0x50bca0 0x56cc1f 0x569dba 0x5f6eb3 0x56cc1f 0x569dba 0x6902a7 0x6023c4 0x5c6730 0x56bacd 0x501488 0x56d4d6 0x501488 0x56d4d6 0x501488 0x505166 0x56bbfa\n",
      "Epoch 1:  68%|███████████████████████▏          | 15/22 [05:42<02:25, 20.82s/it]tcmalloc: large alloc 9006112768 bytes == 0x135c26000 @  0x7f738513c680 0x7f738515d824 0x7f738515db8a 0x7f7236099a8c 0x7f7231815b35 0x7f7231819acd 0x7f72315ab6d0 0x7f72315acc74 0x5f74f6 0x571164 0x569dba 0x50bca0 0x56cc1f 0x569dba 0x50bca0 0x56cc1f 0x569dba 0x5f6eb3 0x56cc1f 0x569dba 0x6902a7 0x6023c4 0x5c6730 0x56bacd 0x501488 0x56d4d6 0x501488 0x56d4d6 0x501488 0x505166 0x56bbfa\n",
      "Epoch 1:  73%|████████████████████████▋         | 16/22 [06:02<02:03, 20.63s/it]tcmalloc: large alloc 9006112768 bytes == 0x135c26000 @  0x7f738513c680 0x7f738515d824 0x7f738515db8a 0x7f7236099a8c 0x7f7231815b35 0x7f7231819acd 0x7f72315ab6d0 0x7f72315acc74 0x5f74f6 0x571164 0x569dba 0x50bca0 0x56cc1f 0x569dba 0x50bca0 0x56cc1f 0x569dba 0x5f6eb3 0x56cc1f 0x569dba 0x6902a7 0x6023c4 0x5c6730 0x56bacd 0x501488 0x56d4d6 0x501488 0x56d4d6 0x501488 0x505166 0x56bbfa\n",
      "Epoch 1:  77%|██████████████████████████▎       | 17/22 [06:23<01:43, 20.64s/it]tcmalloc: large alloc 9006112768 bytes == 0x135c26000 @  0x7f738513c680 0x7f738515d824 0x7f738515db8a 0x7f7236099a8c 0x7f7231815b35 0x7f7231819acd 0x7f72315ab6d0 0x7f72315acc74 0x5f74f6 0x571164 0x569dba 0x50bca0 0x56cc1f 0x569dba 0x50bca0 0x56cc1f 0x569dba 0x5f6eb3 0x56cc1f 0x569dba 0x6902a7 0x6023c4 0x5c6730 0x56bacd 0x501488 0x56d4d6 0x501488 0x56d4d6 0x501488 0x505166 0x56bbfa\n",
      "Epoch 1:  82%|███████████████████████████▊      | 18/22 [06:43<01:22, 20.56s/it]tcmalloc: large alloc 9006112768 bytes == 0x135c26000 @  0x7f738513c680 0x7f738515d824 0x7f738515db8a 0x7f7236099a8c 0x7f7231815b35 0x7f7231819acd 0x7f72315ab6d0 0x7f72315acc74 0x5f74f6 0x571164 0x569dba 0x50bca0 0x56cc1f 0x569dba 0x50bca0 0x56cc1f 0x569dba 0x5f6eb3 0x56cc1f 0x569dba 0x6902a7 0x6023c4 0x5c6730 0x56bacd 0x501488 0x56d4d6 0x501488 0x56d4d6 0x501488 0x505166 0x56bbfa\n",
      "Epoch 1:  86%|█████████████████████████████▎    | 19/22 [07:04<01:01, 20.57s/it]tcmalloc: large alloc 9006112768 bytes == 0x135c26000 @  0x7f738513c680 0x7f738515d824 0x7f738515db8a 0x7f7236099a8c 0x7f7231815b35 0x7f7231819acd 0x7f72315ab6d0 0x7f72315acc74 0x5f74f6 0x571164 0x569dba 0x50bca0 0x56cc1f 0x569dba 0x50bca0 0x56cc1f 0x569dba 0x5f6eb3 0x56cc1f 0x569dba 0x6902a7 0x6023c4 0x5c6730 0x56bacd 0x501488 0x56d4d6 0x501488 0x56d4d6 0x501488 0x505166 0x56bbfa\n",
      "Epoch 1:  91%|██████████████████████████████▉   | 20/22 [07:24<00:41, 20.54s/it]tcmalloc: large alloc 9006112768 bytes == 0x135c26000 @  0x7f738513c680 0x7f738515d824 0x7f738515db8a 0x7f7236099a8c 0x7f7231815b35 0x7f7231819acd 0x7f72315ab6d0 0x7f72315acc74 0x5f74f6 0x571164 0x569dba 0x50bca0 0x56cc1f 0x569dba 0x50bca0 0x56cc1f 0x569dba 0x5f6eb3 0x56cc1f 0x569dba 0x6902a7 0x6023c4 0x5c6730 0x56bacd 0x501488 0x56d4d6 0x501488 0x56d4d6 0x501488 0x505166 0x56bbfa\n",
      "                                                                                \r"
     ]
    }
   ],
   "source": [
    "simclr_trainer = train_simclr(num_epochs=1)"
   ]
  },
  {
   "cell_type": "code",
   "execution_count": 14,
   "id": "a81b18c5-fab2-4352-aa02-771a929ce146",
   "metadata": {},
   "outputs": [],
   "source": [
    "def numpy_collate(batch):\n",
    "    if isinstance(batch[0], np.ndarray):\n",
    "        return np.stack(batch)\n",
    "    elif isinstance(batch[0], (tuple,list)):\n",
    "        transposed = zip(*batch)\n",
    "        return [numpy_collate(samples) for samples in transposed]\n",
    "    else:\n",
    "        return np.array(batch)"
   ]
  },
  {
   "cell_type": "code",
   "execution_count": 15,
   "id": "bb051330-e6b7-4925-8192-9c124b39ba81",
   "metadata": {},
   "outputs": [],
   "source": [
    "class NumpyDataset(mel_dataset):\n",
    "    # data.TensorDataset for numpy arrays\n",
    "\n",
    "    def __init__(self, *arrays):\n",
    "        self.arrays = arrays\n",
    "\n",
    "    def __len__(self):\n",
    "        return self.arrays[0].shape[0]\n",
    "\n",
    "    def __getitem__(self, idx):\n",
    "        return [arr[idx] for arr in self.arrays]"
   ]
  },
  {
   "cell_type": "code",
   "execution_count": 16,
   "id": "8458e29d-ed5d-4d15-9e83-bf59e199d59a",
   "metadata": {},
   "outputs": [],
   "source": [
    "def eval_collate_batch(batch):\n",
    "    x_train = [(np.array(x)+127)/100 for x, _ in batch]\n",
    "    x_train = [np.expand_dims(np.array(x), axis=-1) for x, _ in batch]\n",
    "    y_train = [y for _, y in batch]                 \n",
    "        \n",
    "    return np.array(x_train), np.array(y_train)"
   ]
  },
  {
   "cell_type": "code",
   "execution_count": 17,
   "id": "b715646d-0251-4d4e-b7d5-4113ed1be1dc",
   "metadata": {},
   "outputs": [],
   "source": [
    "def prepare_data_features(encode_fn, data):\n",
    "    # Encode all images\n",
    "    dataset = DataLoader(data, batch_size=64,\n",
    "                                  shuffle=True,\n",
    "                                  drop_last=True,\n",
    "                                  num_workers=0,\n",
    "                                  collate_fn=eval_collate_batch)\n",
    "    \n",
    "    feats, labels = [], []\n",
    "    for batch_imgs, batch_labels in tqdm(dataset):\n",
    "        batch_feats = encode_fn(batch_imgs)\n",
    "        feats.append(jax.device_get(batch_feats))\n",
    "        labels.append(batch_labels)\n",
    "        print(batch_feats.shape)\n",
    "        print(batch_labels.shape)\n",
    "        print(batch_imgs.shape)\n",
    "\n",
    "\n",
    "    feats = np.concatenate(feats, axis=0)\n",
    "    labels = np.concatenate(labels, axis=0)\n",
    "\n",
    "    # # Sort images by labels for easier postprocessing later\n",
    "    # idxs = labels.argsort()\n",
    "    # labels, feats = labels[idxs], feats[idxs]\n",
    "\n",
    "    return NumpyDataset(feats, labels)"
   ]
  },
  {
   "cell_type": "code",
   "execution_count": 18,
   "id": "b1d8490c-79f5-410a-a0d4-32cc96f2057a",
   "metadata": {},
   "outputs": [],
   "source": [
    "dataset = DataLoader(train_dataset, batch_size=64,\n",
    "                              shuffle=True,\n",
    "                              drop_last=True,\n",
    "                              num_workers=0,\n",
    "                              collate_fn=eval_collate_batch)"
   ]
  },
  {
   "cell_type": "code",
   "execution_count": null,
   "id": "7e1ec03f-2a83-49d0-a347-3580c011e2ea",
   "metadata": {},
   "outputs": [],
   "source": [
    "np.array(test_feats_simclr[0][0]).shape"
   ]
  },
  {
   "cell_type": "code",
   "execution_count": null,
   "id": "dd84259a-5f0f-49d6-a342-6897497f6c5a",
   "metadata": {},
   "outputs": [],
   "source": [
    "feats, labels = [], []"
   ]
  },
  {
   "cell_type": "code",
   "execution_count": 19,
   "id": "2de2c468-f927-4b1f-b704-8af369f097bb",
   "metadata": {},
   "outputs": [],
   "source": [
    "simclr_model = simclr_trainer.model.bind({'params': simclr_trainer.state.params,\n",
    "                                          'batch_stats': simclr_trainer.state.batch_stats},\n",
    "                                        mutable=['batch_stats'])"
   ]
  },
  {
   "cell_type": "code",
   "execution_count": 20,
   "id": "41153741-b0d7-4547-8412-bbc797516e2f",
   "metadata": {},
   "outputs": [],
   "source": [
    "encode_fn = jax.jit(lambda img: simclr_model.encode(img))"
   ]
  },
  {
   "cell_type": "code",
   "execution_count": 21,
   "id": "de8613a2-6df6-4084-9b62-52f8e6b420f1",
   "metadata": {},
   "outputs": [
    {
     "name": "stderr",
     "output_type": "stream",
     "text": [
      "  5%|██                                          | 1/21 [00:09<03:06,  9.31s/it]"
     ]
    },
    {
     "name": "stdout",
     "output_type": "stream",
     "text": [
      "(64, 512)\n",
      "(64, 30)\n",
      "(64, 48, 1876, 1)\n"
     ]
    },
    {
     "name": "stderr",
     "output_type": "stream",
     "text": [
      " 10%|████▏                                       | 2/21 [00:12<01:46,  5.62s/it]"
     ]
    },
    {
     "name": "stdout",
     "output_type": "stream",
     "text": [
      "(64, 512)\n",
      "(64, 30)\n",
      "(64, 48, 1876, 1)\n"
     ]
    },
    {
     "name": "stderr",
     "output_type": "stream",
     "text": [
      " 14%|██████▎                                     | 3/21 [00:15<01:20,  4.48s/it]"
     ]
    },
    {
     "name": "stdout",
     "output_type": "stream",
     "text": [
      "(64, 512)\n",
      "(64, 30)\n",
      "(64, 48, 1876, 1)\n"
     ]
    },
    {
     "name": "stderr",
     "output_type": "stream",
     "text": [
      " 19%|████████▍                                   | 4/21 [00:18<01:06,  3.89s/it]"
     ]
    },
    {
     "name": "stdout",
     "output_type": "stream",
     "text": [
      "(64, 512)\n",
      "(64, 30)\n",
      "(64, 48, 1876, 1)\n"
     ]
    },
    {
     "name": "stderr",
     "output_type": "stream",
     "text": [
      " 24%|██████████▍                                 | 5/21 [00:21<00:57,  3.58s/it]"
     ]
    },
    {
     "name": "stdout",
     "output_type": "stream",
     "text": [
      "(64, 512)\n",
      "(64, 30)\n",
      "(64, 48, 1876, 1)\n"
     ]
    },
    {
     "name": "stderr",
     "output_type": "stream",
     "text": [
      " 29%|████████████▌                               | 6/21 [00:24<00:51,  3.41s/it]"
     ]
    },
    {
     "name": "stdout",
     "output_type": "stream",
     "text": [
      "(64, 512)\n",
      "(64, 30)\n",
      "(64, 48, 1876, 1)\n"
     ]
    },
    {
     "name": "stderr",
     "output_type": "stream",
     "text": [
      " 33%|██████████████▋                             | 7/21 [00:27<00:45,  3.28s/it]"
     ]
    },
    {
     "name": "stdout",
     "output_type": "stream",
     "text": [
      "(64, 512)\n",
      "(64, 30)\n",
      "(64, 48, 1876, 1)\n"
     ]
    },
    {
     "name": "stderr",
     "output_type": "stream",
     "text": [
      " 38%|████████████████▊                           | 8/21 [00:30<00:41,  3.20s/it]"
     ]
    },
    {
     "name": "stdout",
     "output_type": "stream",
     "text": [
      "(64, 512)\n",
      "(64, 30)\n",
      "(64, 48, 1876, 1)\n"
     ]
    },
    {
     "name": "stderr",
     "output_type": "stream",
     "text": [
      " 43%|██████████████████▊                         | 9/21 [00:33<00:37,  3.14s/it]"
     ]
    },
    {
     "name": "stdout",
     "output_type": "stream",
     "text": [
      "(64, 512)\n",
      "(64, 30)\n",
      "(64, 48, 1876, 1)\n"
     ]
    },
    {
     "name": "stderr",
     "output_type": "stream",
     "text": [
      " 48%|████████████████████▍                      | 10/21 [00:36<00:34,  3.16s/it]"
     ]
    },
    {
     "name": "stdout",
     "output_type": "stream",
     "text": [
      "(64, 512)\n",
      "(64, 30)\n",
      "(64, 48, 1876, 1)\n"
     ]
    },
    {
     "name": "stderr",
     "output_type": "stream",
     "text": [
      " 52%|██████████████████████▌                    | 11/21 [00:39<00:31,  3.13s/it]"
     ]
    },
    {
     "name": "stdout",
     "output_type": "stream",
     "text": [
      "(64, 512)\n",
      "(64, 30)\n",
      "(64, 48, 1876, 1)\n"
     ]
    },
    {
     "name": "stderr",
     "output_type": "stream",
     "text": [
      " 57%|████████████████████████▌                  | 12/21 [00:42<00:27,  3.11s/it]"
     ]
    },
    {
     "name": "stdout",
     "output_type": "stream",
     "text": [
      "(64, 512)\n",
      "(64, 30)\n",
      "(64, 48, 1876, 1)\n"
     ]
    },
    {
     "name": "stderr",
     "output_type": "stream",
     "text": [
      " 62%|██████████████████████████▌                | 13/21 [00:46<00:24,  3.10s/it]"
     ]
    },
    {
     "name": "stdout",
     "output_type": "stream",
     "text": [
      "(64, 512)\n",
      "(64, 30)\n",
      "(64, 48, 1876, 1)\n"
     ]
    },
    {
     "name": "stderr",
     "output_type": "stream",
     "text": [
      " 67%|████████████████████████████▋              | 14/21 [00:49<00:21,  3.11s/it]"
     ]
    },
    {
     "name": "stdout",
     "output_type": "stream",
     "text": [
      "(64, 512)\n",
      "(64, 30)\n",
      "(64, 48, 1876, 1)\n"
     ]
    },
    {
     "name": "stderr",
     "output_type": "stream",
     "text": [
      " 71%|██████████████████████████████▋            | 15/21 [00:52<00:18,  3.11s/it]"
     ]
    },
    {
     "name": "stdout",
     "output_type": "stream",
     "text": [
      "(64, 512)\n",
      "(64, 30)\n",
      "(64, 48, 1876, 1)\n"
     ]
    },
    {
     "name": "stderr",
     "output_type": "stream",
     "text": [
      " 76%|████████████████████████████████▊          | 16/21 [00:55<00:15,  3.12s/it]"
     ]
    },
    {
     "name": "stdout",
     "output_type": "stream",
     "text": [
      "(64, 512)\n",
      "(64, 30)\n",
      "(64, 48, 1876, 1)\n"
     ]
    },
    {
     "name": "stderr",
     "output_type": "stream",
     "text": [
      " 81%|██████████████████████████████████▊        | 17/21 [00:58<00:12,  3.11s/it]"
     ]
    },
    {
     "name": "stdout",
     "output_type": "stream",
     "text": [
      "(64, 512)\n",
      "(64, 30)\n",
      "(64, 48, 1876, 1)\n"
     ]
    },
    {
     "name": "stderr",
     "output_type": "stream",
     "text": [
      " 86%|████████████████████████████████████▊      | 18/21 [01:01<00:09,  3.11s/it]"
     ]
    },
    {
     "name": "stdout",
     "output_type": "stream",
     "text": [
      "(64, 512)\n",
      "(64, 30)\n",
      "(64, 48, 1876, 1)\n"
     ]
    },
    {
     "name": "stderr",
     "output_type": "stream",
     "text": [
      " 90%|██████████████████████████████████████▉    | 19/21 [01:04<00:06,  3.11s/it]"
     ]
    },
    {
     "name": "stdout",
     "output_type": "stream",
     "text": [
      "(64, 512)\n",
      "(64, 30)\n",
      "(64, 48, 1876, 1)\n"
     ]
    },
    {
     "name": "stderr",
     "output_type": "stream",
     "text": [
      " 95%|████████████████████████████████████████▉  | 20/21 [01:07<00:03,  3.12s/it]"
     ]
    },
    {
     "name": "stdout",
     "output_type": "stream",
     "text": [
      "(64, 512)\n",
      "(64, 30)\n",
      "(64, 48, 1876, 1)\n"
     ]
    },
    {
     "name": "stderr",
     "output_type": "stream",
     "text": [
      "100%|███████████████████████████████████████████| 21/21 [01:11<00:00,  3.39s/it]\n"
     ]
    },
    {
     "name": "stdout",
     "output_type": "stream",
     "text": [
      "(64, 512)\n",
      "(64, 30)\n",
      "(64, 48, 1876, 1)\n"
     ]
    },
    {
     "name": "stderr",
     "output_type": "stream",
     "text": [
      " 20%|█████████                                    | 1/5 [00:03<00:12,  3.14s/it]"
     ]
    },
    {
     "name": "stdout",
     "output_type": "stream",
     "text": [
      "(64, 512)\n",
      "(64, 30)\n",
      "(64, 48, 1876, 1)\n"
     ]
    },
    {
     "name": "stderr",
     "output_type": "stream",
     "text": [
      " 40%|██████████████████                           | 2/5 [00:06<00:09,  3.11s/it]"
     ]
    },
    {
     "name": "stdout",
     "output_type": "stream",
     "text": [
      "(64, 512)\n",
      "(64, 30)\n",
      "(64, 48, 1876, 1)\n"
     ]
    },
    {
     "name": "stderr",
     "output_type": "stream",
     "text": [
      " 60%|███████████████████████████                  | 3/5 [00:09<00:06,  3.07s/it]"
     ]
    },
    {
     "name": "stdout",
     "output_type": "stream",
     "text": [
      "(64, 512)\n",
      "(64, 30)\n",
      "(64, 48, 1876, 1)\n"
     ]
    },
    {
     "name": "stderr",
     "output_type": "stream",
     "text": [
      " 80%|████████████████████████████████████         | 4/5 [00:12<00:03,  3.07s/it]"
     ]
    },
    {
     "name": "stdout",
     "output_type": "stream",
     "text": [
      "(64, 512)\n",
      "(64, 30)\n",
      "(64, 48, 1876, 1)\n"
     ]
    },
    {
     "name": "stderr",
     "output_type": "stream",
     "text": [
      "100%|█████████████████████████████████████████████| 5/5 [00:15<00:00,  3.09s/it]"
     ]
    },
    {
     "name": "stdout",
     "output_type": "stream",
     "text": [
      "(64, 512)\n",
      "(64, 30)\n",
      "(64, 48, 1876, 1)\n"
     ]
    },
    {
     "name": "stderr",
     "output_type": "stream",
     "text": [
      "\n"
     ]
    }
   ],
   "source": [
    "train_feats_simclr = prepare_data_features(encode_fn, train_dataset)\n",
    "test_feats_simclr = prepare_data_features(encode_fn, test_dataset)"
   ]
  },
  {
   "cell_type": "code",
   "execution_count": 24,
   "id": "81fce0b4-dfb7-426b-9b05-57185587a0dd",
   "metadata": {},
   "outputs": [],
   "source": [
    "def train_logreg(batch_size, train_feats_data, test_feats_data, num_epochs=100, **kwargs):\n",
    "    # Data loaders\n",
    "    train_loader = DataLoader(train_feats_data,\n",
    "                                   batch_size=batch_size,\n",
    "                                   shuffle=True,\n",
    "                                   drop_last=True,\n",
    "                                   generator=torch.Generator().manual_seed(42),\n",
    "                                   collate_fn=numpy_collate)\n",
    "    test_loader = DataLoader(test_feats_data,\n",
    "                                  batch_size=batch_size,\n",
    "                                  shuffle=False,\n",
    "                                  drop_last=False,\n",
    "                                  collate_fn=numpy_collate)\n",
    "\n",
    "    # Create a trainer module with specified hyperparameters\n",
    "    trainer = LGTrainer(exmp=next(iter(train_loader))[0],\n",
    "                        # model_suffix=model_suffix,\n",
    "                        **kwargs)\n",
    "    trainer.train_model(train_loader, test_loader, num_epochs=num_epochs)\n",
    "\n",
    "    # Test best model on train and validation set\n",
    "    train_result = trainer.eval_model(train_loader, 100) \n",
    "    test_result = trainer.eval_model(test_loader,100)\n",
    "\n",
    "    return trainer"
   ]
  },
  {
   "cell_type": "code",
   "execution_count": 25,
   "id": "681072c0-597e-4dbf-abfd-4c6e4fcad766",
   "metadata": {},
   "outputs": [
    {
     "name": "stderr",
     "output_type": "stream",
     "text": [
      "                                                                                \r"
     ]
    }
   ],
   "source": [
    "trainer = train_logreg(batch_size=64,\n",
    "                         train_feats_data=train_feats_simclr,\n",
    "                         test_feats_data=test_feats_simclr,\n",
    "                         num_classes=30,\n",
    "                         lr=1e-3,\n",
    "                         weight_decay=1e-3,\n",
    "                         )"
   ]
  }
 ],
 "metadata": {
  "kernelspec": {
   "display_name": "Python 3 (ipykernel)",
   "language": "python",
   "name": "python3"
  },
  "language_info": {
   "codemirror_mode": {
    "name": "ipython",
    "version": 3
   },
   "file_extension": ".py",
   "mimetype": "text/x-python",
   "name": "python",
   "nbconvert_exporter": "python",
   "pygments_lexer": "ipython3",
   "version": "3.8.10"
  }
 },
 "nbformat": 4,
 "nbformat_minor": 5
}
