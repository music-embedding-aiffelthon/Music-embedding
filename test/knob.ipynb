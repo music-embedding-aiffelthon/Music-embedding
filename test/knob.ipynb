{
 "cells": [
  {
   "cell_type": "code",
   "execution_count": 10,
   "id": "5394a7bc-6428-4a08-a5b2-6abb6b3a20e3",
   "metadata": {},
   "outputs": [
    {
     "name": "stderr",
     "output_type": "stream",
     "text": [
      "/usr/local/lib/python3.8/dist-packages/tqdm/auto.py:22: TqdmWarning: IProgress not found. Please update jupyter and ipywidgets. See https://ipywidgets.readthedocs.io/en/stable/user_install.html\n",
      "  from .autonotebook import tqdm as notebook_tqdm\n"
     ]
    }
   ],
   "source": [
    "import flax \n",
    "import flax.linen as nn\n",
    "from flax.training import train_state, checkpoints\n",
    "from flax.core.frozen_dict import unfreeze, freeze\n",
    "\n",
    "from utils.dataloader import mel_dataset\n",
    "from torch.utils.data import DataLoader, random_split\n",
    "\n",
    "import jax\n",
    "import numpy as np\n",
    "import jax.numpy as jnp\n",
    "import optax\n",
    "\n",
    "from torch.utils.tensorboard import SummaryWriter\n",
    "import os\n",
    "from tqdm import tqdm\n",
    "import numpy as np\n",
    "from numpy import dot\n",
    "from numpy.linalg import norm\n",
    "import matplotlib.pyplot as plt\n",
    "import tensorflow as tf\n",
    "import tensorboard as tb\n",
    "tf.io.gfile = tb.compat.tensorflow_stub.io.gfile\n"
   ]
  },
  {
   "cell_type": "code",
   "execution_count": 2,
   "id": "330660ce-0fda-465f-9c4f-136dfdeb4630",
   "metadata": {},
   "outputs": [
    {
     "name": "stdout",
     "output_type": "stream",
     "text": [
      "Load song_meta.json...\n"
     ]
    },
    {
     "name": "stderr",
     "output_type": "stream",
     "text": [
      "100%|████████████████████████████████████████████████████████████████████████████████████████████████████████████████████████████████████████████████████████████████| 707989/707989 [00:00<00:00, 739516.86it/s]\n"
     ]
    },
    {
     "name": "stdout",
     "output_type": "stream",
     "text": [
      "Load complete!\n",
      "\n",
      "Load file list...\n"
     ]
    },
    {
     "name": "stderr",
     "output_type": "stream",
     "text": [
      "710it [01:08, 10.32it/s]\n"
     ]
    }
   ],
   "source": [
    "data = mel_dataset('/mnt/disks/sdb/dataset', 'total')"
   ]
  },
  {
   "cell_type": "code",
   "execution_count": 11,
   "id": "115d8e11-4234-4f4a-8c24-f1ef1b84e567",
   "metadata": {},
   "outputs": [],
   "source": [
    "linear = np.load('./result/SimCLR_1_linear_array.npy')"
   ]
  },
  {
   "cell_type": "code",
   "execution_count": 12,
   "id": "39badfd4-75d6-41ab-923e-52c9bf510304",
   "metadata": {},
   "outputs": [],
   "source": [
    "def knob_cos_sim(A, B,c):\n",
    "      return dot(A*c, B)/((norm(A*c)) *norm(B))\n",
    "    \n",
    "def cos_sim(A, B):\n",
    "      return dot(A, B)/((norm(A)) *norm(B))\n",
    "    \n",
    "def softmax(a) :\n",
    "    exp_a = np.exp(a)\n",
    "    sum_exp_a = np.sum(exp_a)\n",
    "    y = exp_a / sum_exp_a\n",
    "    return y\n",
    "\n",
    "def kl(P,Q):\n",
    "    epsilon = 0.00001\n",
    "\n",
    "     # You may want to instead make copies to avoid changing the np arrays.\n",
    "    P = P+epsilon\n",
    "    Q = Q+epsilon\n",
    "\n",
    "    divergence = np.sum(P*np.log(P/Q))\n",
    "        \n",
    "    return divergence"
   ]
  },
  {
   "cell_type": "code",
   "execution_count": 13,
   "id": "93775f64-e40f-43cc-9743-4b806d6c7dac",
   "metadata": {},
   "outputs": [],
   "source": [
    "def kl_div(p, q):\n",
    "    epsilon = 0.00001\n",
    "    \n",
    "    p = np.asarray(p+epsilon, dtype=np.float64)\n",
    "    q = np.asarray(q+epsilon, dtype=np.float64)\n",
    "\n",
    "    return np.sum(np.where(p != 0, p * np.log(p / q), 0))"
   ]
  },
  {
   "cell_type": "code",
   "execution_count": 14,
   "id": "2cef13a0-15bd-4f22-ac06-be5c8757f2a0",
   "metadata": {},
   "outputs": [],
   "source": [
    "answer = []\n",
    "for i in linear:\n",
    "    if np.argmax(i[0])==np.argmax(i[1]):\n",
    "        answer.append(i)"
   ]
  },
  {
   "cell_type": "code",
   "execution_count": 15,
   "id": "f4bc054b-e4e0-4742-8480-d12debca12a0",
   "metadata": {},
   "outputs": [],
   "source": [
    "answer = np.array(answer)"
   ]
  },
  {
   "cell_type": "code",
   "execution_count": 16,
   "id": "e0f07169-49f3-42d6-8512-9a8f408c7ec5",
   "metadata": {},
   "outputs": [],
   "source": [
    "linear_list = []\n",
    "for i in range(answer.shape[0]):\n",
    "    temp = softmax(answer[i][0])\n",
    "    linear_list.append(temp)"
   ]
  },
  {
   "cell_type": "code",
   "execution_count": 17,
   "id": "e9d93768-eae7-40fd-8f53-bb6e988d9651",
   "metadata": {},
   "outputs": [],
   "source": [
    "linear_list = np.stack(linear_list)"
   ]
  },
  {
   "cell_type": "code",
   "execution_count": 19,
   "id": "5beb8122-2593-4485-9500-0423c2ad07ca",
   "metadata": {},
   "outputs": [],
   "source": [
    "knob = np.ones((14))\n",
    "knob[5] = 2 "
   ]
  },
  {
   "cell_type": "code",
   "execution_count": 20,
   "id": "25a20dbf-8753-4947-bce0-1dd1bd6dd3fa",
   "metadata": {},
   "outputs": [
    {
     "data": {
      "text/plain": [
       "array([1., 1., 1., 1., 1., 2., 1., 1., 1., 1., 1., 1., 1., 1.])"
      ]
     },
     "execution_count": 20,
     "metadata": {},
     "output_type": "execute_result"
    }
   ],
   "source": [
    "knob"
   ]
  },
  {
   "cell_type": "code",
   "execution_count": 21,
   "id": "00562ac2-e72e-4ef0-9ccb-3eae72deca0a",
   "metadata": {},
   "outputs": [],
   "source": [
    "a = linear_list[0] * knob"
   ]
  },
  {
   "cell_type": "code",
   "execution_count": 27,
   "id": "821e12a9-29fe-4c2d-917e-407eb6062a0f",
   "metadata": {},
   "outputs": [
    {
     "data": {
      "text/plain": [
       "3"
      ]
     },
     "execution_count": 27,
     "metadata": {},
     "output_type": "execute_result"
    }
   ],
   "source": [
    "answer[0][1].argmax()"
   ]
  },
  {
   "cell_type": "code",
   "execution_count": 54,
   "id": "3a95ddb6-d828-4767-aa97-fdee5cf0c801",
   "metadata": {},
   "outputs": [
    {
     "data": {
      "text/plain": [
       "[<matplotlib.lines.Line2D at 0x7f1d63ee2550>]"
      ]
     },
     "execution_count": 54,
     "metadata": {},
     "output_type": "execute_result"
    },
    {
     "data": {
      "image/png": "[encoded data removed]",
      "text/plain": [
       "<Figure size 640x480 with 1 Axes>"
      ]
     },
     "metadata": {},
     "output_type": "display_data"
    }
   ],
   "source": [
    "plt.plot(linear_list[0])\n"
   ]
  },
  {
   "cell_type": "code",
   "execution_count": 74,
   "id": "e8ea2383-75a2-4d71-acfb-0e1653ec959a",
   "metadata": {},
   "outputs": [
    {
     "data": {
      "text/plain": [
       "[<matplotlib.lines.Line2D at 0x7f1d63ac4d00>]"
      ]
     },
     "execution_count": 74,
     "metadata": {},
     "output_type": "execute_result"
    },
    {
     "data": {
      "image/png": "[encoded data removed]",
      "text/plain": [
       "<Figure size 640x480 with 1 Axes>"
      ]
     },
     "metadata": {},
     "output_type": "display_data"
    }
   ],
   "source": [
    "plt.plot(linear_list[0])\n",
    "plt.plot(a)"
   ]
  },
  {
   "cell_type": "code",
   "execution_count": 71,
   "id": "93aa79c2-a6c4-41ed-96bd-47f80e6aada9",
   "metadata": {},
   "outputs": [],
   "source": [
    "knob = np.ones((14))"
   ]
  },
  {
   "cell_type": "code",
   "execution_count": 61,
   "id": "c901f869-e5a8-489e-83cb-c6caf9ceb55e",
   "metadata": {},
   "outputs": [],
   "source": [
    "knob[11] = 1"
   ]
  },
  {
   "cell_type": "code",
   "execution_count": 72,
   "id": "a19e0347-271d-4d28-889f-003f76d23350",
   "metadata": {},
   "outputs": [],
   "source": [
    "knob[1] = 8\n",
    "knob[3] = 0\n",
    "# knob[11] = 10"
   ]
  },
  {
   "cell_type": "code",
   "execution_count": 65,
   "id": "bb2831c0-96f0-4b38-969b-634ef145ce66",
   "metadata": {},
   "outputs": [],
   "source": [
    "a = linear_list[0] * knob"
   ]
  },
  {
   "cell_type": "code",
   "execution_count": 75,
   "id": "00bcff23-b4f5-4d67-977b-bf85f3b6fb86",
   "metadata": {},
   "outputs": [],
   "source": [
    "knob_kl_list = []\n",
    "for i in range(0, len(linear_list)):\n",
    "        kl = kl_div((a), (linear_list[i]))\n",
    "        knob_kl_list.append(kl)"
   ]
  },
  {
   "cell_type": "code",
   "execution_count": 76,
   "id": "ce659a24-9329-46f3-b035-8e925e6f0eef",
   "metadata": {},
   "outputs": [
    {
     "data": {
      "text/plain": [
       "array([0.01060801, 0.25880269, 0.00756258, 0.55508193, 0.04436722,\n",
       "       0.00446389, 0.01101459, 0.00248732, 0.00112942, 0.00793466,\n",
       "       0.0157589 , 0.07469195, 0.0013514 , 0.00474545])"
      ]
     },
     "execution_count": 76,
     "metadata": {},
     "output_type": "execute_result"
    }
   ],
   "source": [
    "linear_list[0]"
   ]
  },
  {
   "cell_type": "code",
   "execution_count": 79,
   "id": "e2a437a0-af33-4132-ba97-de6a9aaecaa9",
   "metadata": {},
   "outputs": [
    {
     "data": {
      "text/plain": [
       "array([1.06080055e-02, 2.07042150e+00, 7.56258362e-03, 0.00000000e+00,\n",
       "       4.43672163e-02, 8.92778375e-03, 1.10145865e-02, 2.48731563e-03,\n",
       "       1.12942225e-03, 7.93465535e-03, 1.57589032e-02, 7.46919472e-02,\n",
       "       1.35139922e-03, 4.74545373e-03])"
      ]
     },
     "execution_count": 79,
     "metadata": {},
     "output_type": "execute_result"
    }
   ],
   "source": [
    "a"
   ]
  },
  {
   "cell_type": "code",
   "execution_count": 80,
   "id": "caaa247b-eb9c-4fb5-89bb-aed290f50b1f",
   "metadata": {},
   "outputs": [
    {
     "data": {
      "text/plain": [
       "1.8665121741822281"
      ]
     },
     "execution_count": 80,
     "metadata": {},
     "output_type": "execute_result"
    }
   ],
   "source": [
    "sorted(knob_kl_list)[0]"
   ]
  },
  {
   "cell_type": "code",
   "execution_count": 33,
   "id": "999c7ace-36ed-4cb1-a54d-407fdd8b2e95",
   "metadata": {
    "tags": []
   },
   "outputs": [],
   "source": [
    "def kl(P,Q):\n",
    "    epsilon = 0.00001\n",
    "\n",
    "     # You may want to instead make copies to avoid changing the np arrays.\n",
    "    P = P+epsilon\n",
    "    Q = Q+epsilon\n",
    "\n",
    "    divergence = np.sum(P*np.log(P/Q))\n",
    "        \n",
    "    return divergence"
   ]
  },
  {
   "cell_type": "code",
   "execution_count": 40,
   "id": "e701986c-78c0-4265-a563-5d63a0cd3e23",
   "metadata": {},
   "outputs": [],
   "source": [
    "knob_kl_list = []\n",
    "for i in range(0, len(linear_list)):\n",
    "        kl = kl_div((a), (linear_list[i]))\n",
    "        knob_kl_list.append(kl)"
   ]
  },
  {
   "cell_type": "code",
   "execution_count": 41,
   "id": "67484a83-acea-4727-966d-f3972bb7e036",
   "metadata": {},
   "outputs": [
    {
     "data": {
      "text/plain": [
       "-0.21439133483952205"
      ]
     },
     "execution_count": 41,
     "metadata": {},
     "output_type": "execute_result"
    }
   ],
   "source": [
    "sorted(knob_kl_list)[0]"
   ]
  },
  {
   "cell_type": "code",
   "execution_count": 42,
   "id": "0475dc68-978d-4841-96b7-0f26ebf2e39f",
   "metadata": {},
   "outputs": [
    {
     "data": {
      "text/plain": [
       "256155"
      ]
     },
     "execution_count": 42,
     "metadata": {},
     "output_type": "execute_result"
    }
   ],
   "source": [
    "knob_kl_list.index(-0.21439133483952205)"
   ]
  },
  {
   "cell_type": "code",
   "execution_count": 43,
   "id": "76cd28b2-9c14-4d0d-a3e7-210225911a46",
   "metadata": {},
   "outputs": [
    {
     "data": {
      "text/plain": [
       "1"
      ]
     },
     "execution_count": 43,
     "metadata": {},
     "output_type": "execute_result"
    }
   ],
   "source": [
    "answer[256155][1].argmax()"
   ]
  },
  {
   "cell_type": "code",
   "execution_count": 210,
   "id": "7bf005a0-d90b-49c3-bf01-fa9bc54c8668",
   "metadata": {},
   "outputs": [
    {
     "data": {
      "text/plain": [
       "3"
      ]
     },
     "execution_count": 210,
     "metadata": {},
     "output_type": "execute_result"
    }
   ],
   "source": [
    "answer[0][1].argmax()"
   ]
  },
  {
   "cell_type": "code",
   "execution_count": 201,
   "id": "92e43edb-929c-4958-983e-282d1ede7f7a",
   "metadata": {},
   "outputs": [
    {
     "data": {
      "text/plain": [
       "125474"
      ]
     },
     "execution_count": 201,
     "metadata": {},
     "output_type": "execute_result"
    }
   ],
   "source": [
    "knob_kl_list.index(-0.04254585826867579)"
   ]
  },
  {
   "cell_type": "code",
   "execution_count": 202,
   "id": "44306dad-e47c-486c-ae6f-af4c09ae5c66",
   "metadata": {},
   "outputs": [
    {
     "data": {
      "text/plain": [
       "5"
      ]
     },
     "execution_count": 202,
     "metadata": {},
     "output_type": "execute_result"
    }
   ],
   "source": [
    "answer[125474][1].argmax()"
   ]
  },
  {
   "cell_type": "code",
   "execution_count": 211,
   "id": "ce618ded-a89c-4575-8fd9-279cbb675c02",
   "metadata": {},
   "outputs": [
    {
     "data": {
      "text/plain": [
       "3"
      ]
     },
     "execution_count": 211,
     "metadata": {},
     "output_type": "execute_result"
    }
   ],
   "source": [
    "answer[0][1].argmax()"
   ]
  },
  {
   "cell_type": "code",
   "execution_count": 101,
   "id": "36cb4a07-3bb4-4049-8e4d-715d0cd93ed4",
   "metadata": {},
   "outputs": [
    {
     "data": {
      "text/plain": [
       "164229"
      ]
     },
     "execution_count": 101,
     "metadata": {},
     "output_type": "execute_result"
    }
   ],
   "source": [
    "knob_kl_list.index(0.006656880419015968)"
   ]
  },
  {
   "cell_type": "code",
   "execution_count": 79,
   "id": "d8b6b972-2952-4b08-a5d7-4cca480e4083",
   "metadata": {},
   "outputs": [
    {
     "data": {
      "text/plain": [
       "1"
      ]
     },
     "execution_count": 79,
     "metadata": {},
     "output_type": "execute_result"
    }
   ],
   "source": [
    "answer[10261][1].argmax()"
   ]
  },
  {
   "cell_type": "code",
   "execution_count": 102,
   "id": "3ee3954b-2261-4cef-80fd-c4e007be709e",
   "metadata": {},
   "outputs": [
    {
     "data": {
      "text/plain": [
       "7"
      ]
     },
     "execution_count": 102,
     "metadata": {},
     "output_type": "execute_result"
    }
   ],
   "source": [
    "answer[164229][1].argmax()"
   ]
  },
  {
   "cell_type": "code",
   "execution_count": 212,
   "id": "75edbf8d-7ea6-42e8-9f05-752bc995a302",
   "metadata": {},
   "outputs": [
    {
     "data": {
      "text/plain": [
       "array([1., 1., 1., 1., 1., 2., 1., 1., 1., 1., 1., 1., 1., 1.])"
      ]
     },
     "execution_count": 212,
     "metadata": {},
     "output_type": "execute_result"
    }
   ],
   "source": [
    "knob"
   ]
  },
  {
   "cell_type": "code",
   "execution_count": 213,
   "id": "54ff3c2f-e5a2-4e13-b8d0-4d623b62fbbe",
   "metadata": {},
   "outputs": [],
   "source": [
    "temp_cos = []\n",
    "for i in range(0, len(linear_list)):\n",
    "    cos = cos_sim(a, linear_list[i])\n",
    "    temp_cos.append(cos)"
   ]
  },
  {
   "cell_type": "code",
   "execution_count": 214,
   "id": "9297f4a0-63fb-4f74-8ecd-6fa041b54d70",
   "metadata": {},
   "outputs": [
    {
     "data": {
      "text/plain": [
       "[0.9996977769607932,\n",
       " 0.9997003201211699,\n",
       " 0.9998103658137202,\n",
       " 0.9998596339661557,\n",
       " 0.9999740116826016]"
      ]
     },
     "execution_count": 214,
     "metadata": {},
     "output_type": "execute_result"
    }
   ],
   "source": [
    "sorted(temp_cos)[-5:]"
   ]
  },
  {
   "cell_type": "code",
   "execution_count": 216,
   "id": "f61dce3c-0f85-43dd-a675-a7070ceff72b",
   "metadata": {},
   "outputs": [
    {
     "data": {
      "text/plain": [
       "9264"
      ]
     },
     "execution_count": 216,
     "metadata": {},
     "output_type": "execute_result"
    }
   ],
   "source": [
    "temp_cos.index(0.9996977769607932)"
   ]
  },
  {
   "cell_type": "code",
   "execution_count": 218,
   "id": "5194a066-629d-43be-88a1-e8b041be2b0a",
   "metadata": {},
   "outputs": [
    {
     "data": {
      "text/plain": [
       "3"
      ]
     },
     "execution_count": 218,
     "metadata": {},
     "output_type": "execute_result"
    }
   ],
   "source": [
    "answer[9264][1].argmax()"
   ]
  },
  {
   "cell_type": "code",
   "execution_count": 223,
   "id": "18d998f4-4b34-4421-af8e-24ee62a3f4bb",
   "metadata": {},
   "outputs": [
    {
     "data": {
      "text/plain": [
       "array([0.0108032 , 0.26272919, 0.00804747, 0.55671607, 0.05200358,\n",
       "       0.00421935, 0.01057501, 0.00310716, 0.00121806, 0.00787822,\n",
       "       0.01033795, 0.06432045, 0.00212013, 0.00592415])"
      ]
     },
     "execution_count": 223,
     "metadata": {},
     "output_type": "execute_result"
    }
   ],
   "source": [
    "linear_list[9264]"
   ]
  },
  {
   "cell_type": "code",
   "execution_count": 224,
   "id": "ff2ccb2c-6b20-4060-b654-46ca96b913a2",
   "metadata": {},
   "outputs": [
    {
     "data": {
      "text/plain": [
       "[<matplotlib.lines.Line2D at 0x7fa37945ccd0>]"
      ]
     },
     "execution_count": 224,
     "metadata": {},
     "output_type": "execute_result"
    },
    {
     "data": {
      "image/png": "[encoded data removed]",
      "text/plain": [
       "<Figure size 640x480 with 1 Axes>"
      ]
     },
     "metadata": {},
     "output_type": "display_data"
    }
   ],
   "source": [
    "plt.plot(linear_list[9264])"
   ]
  },
  {
   "cell_type": "code",
   "execution_count": 195,
   "id": "0f2d4281-d564-477d-ad32-6283f5cf2e9e",
   "metadata": {},
   "outputs": [
    {
     "data": {
      "text/plain": [
       "195799"
      ]
     },
     "execution_count": 195,
     "metadata": {},
     "output_type": "execute_result"
    }
   ],
   "source": [
    "temp_cos.index(0.9999996544740996)"
   ]
  },
  {
   "cell_type": "code",
   "execution_count": 196,
   "id": "5d9c1480-49ff-4247-9a7f-e2cb42c990b0",
   "metadata": {},
   "outputs": [
    {
     "data": {
      "text/plain": [
       "5"
      ]
     },
     "execution_count": 196,
     "metadata": {},
     "output_type": "execute_result"
    }
   ],
   "source": [
    "answer[195799][1].argmax()"
   ]
  },
  {
   "cell_type": "code",
   "execution_count": 136,
   "id": "5d491c0b-f076-4bf4-aa80-5aa13c85d1ba",
   "metadata": {},
   "outputs": [
    {
     "data": {
      "text/plain": [
       "[<matplotlib.lines.Line2D at 0x7fa37bb671f0>]"
      ]
     },
     "execution_count": 136,
     "metadata": {},
     "output_type": "execute_result"
    },
    {
     "data": {
      "image/png": "[encoded data removed]",
      "text/plain": [
       "<Figure size 640x480 with 1 Axes>"
      ]
     },
     "metadata": {},
     "output_type": "display_data"
    }
   ],
   "source": [
    "plt.plot(linear_list[96150])"
   ]
  },
  {
   "cell_type": "code",
   "execution_count": 138,
   "id": "abc8e832-bcc3-4e82-ad12-e01a8dbec965",
   "metadata": {},
   "outputs": [
    {
     "data": {
      "text/plain": [
       "[<matplotlib.lines.Line2D at 0x7fa37bb51d60>]"
      ]
     },
     "execution_count": 138,
     "metadata": {},
     "output_type": "execute_result"
    },
    {
     "data": {
      "image/png": "[encoded data removed]",
      "text/plain": [
       "<Figure size 640x480 with 1 Axes>"
      ]
     },
     "metadata": {},
     "output_type": "display_data"
    }
   ],
   "source": []
  },
  {
   "cell_type": "code",
   "execution_count": 54,
   "id": "a0978ad2-dd66-4672-a384-52d69a7c39b0",
   "metadata": {},
   "outputs": [
    {
     "data": {
      "text/plain": [
       "120498"
      ]
     },
     "execution_count": 54,
     "metadata": {},
     "output_type": "execute_result"
    }
   ],
   "source": [
    "knob_kl_list.index(0.0004600596444521642)"
   ]
  },
  {
   "cell_type": "code",
   "execution_count": 55,
   "id": "9d601d0b-1303-4434-8dac-0a3a336b623c",
   "metadata": {},
   "outputs": [
    {
     "data": {
      "text/plain": [
       "1"
      ]
     },
     "execution_count": 55,
     "metadata": {},
     "output_type": "execute_result"
    }
   ],
   "source": [
    "answer[120498][1].argmax()"
   ]
  },
  {
   "cell_type": "code",
   "execution_count": 59,
   "id": "ce7eeb9f-b677-43ec-80da-ca1f1e830fd9",
   "metadata": {},
   "outputs": [
    {
     "data": {
      "text/plain": [
       "array([0.        , 0.        , 0.        , 0.00021558, 0.        ,\n",
       "       0.        , 0.        , 0.        , 0.        , 0.        ,\n",
       "       0.        , 0.        , 0.        , 0.        , 0.        ,\n",
       "       0.        , 0.        , 0.        , 0.        , 0.        ,\n",
       "       0.        , 0.        , 0.        , 0.        , 0.        ,\n",
       "       0.        , 0.        , 0.        , 0.        , 0.        ])"
      ]
     },
     "execution_count": 59,
     "metadata": {},
     "output_type": "execute_result"
    }
   ],
   "source": [
    "a"
   ]
  },
  {
   "cell_type": "code",
   "execution_count": 58,
   "id": "13e9c9c4-20b9-4cdb-bc81-b415f61f208b",
   "metadata": {},
   "outputs": [
    {
     "data": {
      "text/plain": [
       "[<matplotlib.lines.Line2D at 0x7fa37ca8cee0>]"
      ]
     },
     "execution_count": 58,
     "metadata": {},
     "output_type": "execute_result"
    },
    {
     "data": {
      "image/png": "[encoded data removed]",
      "text/plain": [
       "<Figure size 640x480 with 1 Axes>"
      ]
     },
     "metadata": {},
     "output_type": "display_data"
    }
   ],
   "source": [
    "plt.plot(linear_list[0])\n",
    "plt.plot(a)"
   ]
  },
  {
   "cell_type": "code",
   "execution_count": null,
   "id": "2716172c-296f-4234-9401-0d215becfc96",
   "metadata": {},
   "outputs": [],
   "source": []
  },
  {
   "cell_type": "code",
   "execution_count": null,
   "id": "726aa949-9318-450a-a905-89e0be3fe412",
   "metadata": {
    "tags": []
   },
   "outputs": [],
   "source": [
    "knob_cos_list = []\n",
    "for i in range(0, len(linear_list)):\n",
    "        cos = knob_cos_sim(linear_list[0], linear_list[i], knob)\n",
    "        knob_cos_list.append(cos) "
   ]
  },
  {
   "cell_type": "code",
   "execution_count": null,
   "id": "74a87c98-5880-456a-9639-bce632100cac",
   "metadata": {},
   "outputs": [],
   "source": [
    "sorted(knob_cos_list)[:5]"
   ]
  },
  {
   "cell_type": "code",
   "execution_count": null,
   "id": "02097c1d-69e2-4015-9d87-7622b40b9316",
   "metadata": {},
   "outputs": [],
   "source": [
    "knob_cos_list.index(0.00010930368698776733)"
   ]
  },
  {
   "cell_type": "code",
   "execution_count": null,
   "id": "f6716c80-7ff5-48b6-b9e5-b59ce451d3cb",
   "metadata": {},
   "outputs": [],
   "source": [
    "answer[80073][1].argmax()"
   ]
  },
  {
   "cell_type": "code",
   "execution_count": null,
   "id": "5f710e0c-8d96-490a-8ffc-3f741cd4215d",
   "metadata": {},
   "outputs": [],
   "source": [
    "knob_cos_list.index(0.0001384588728429575)"
   ]
  },
  {
   "cell_type": "code",
   "execution_count": null,
   "id": "e46eaa4a-e3a2-4185-a26b-b961e91e3ed9",
   "metadata": {},
   "outputs": [],
   "source": [
    "answer[72752][1].argmax()"
   ]
  },
  {
   "cell_type": "code",
   "execution_count": null,
   "id": "6db43ed2-c3b3-42c3-b59c-5d0726313210",
   "metadata": {},
   "outputs": [],
   "source": [
    "knob_cos_list.index(0.000143127864512996)"
   ]
  },
  {
   "cell_type": "code",
   "execution_count": null,
   "id": "6314e2d6-d953-4ec2-886e-0d356ab5a916",
   "metadata": {},
   "outputs": [],
   "source": [
    "answer[159696][1].argmax()"
   ]
  },
  {
   "cell_type": "code",
   "execution_count": null,
   "id": "39fa9543-eddd-4f79-bd79-40f3b94ffe0d",
   "metadata": {},
   "outputs": [],
   "source": [
    "knob_cos_list.index(0.00014745429153686782)"
   ]
  },
  {
   "cell_type": "code",
   "execution_count": null,
   "id": "d5823812-a7b4-4813-8e73-4f55ddbd443b",
   "metadata": {},
   "outputs": [],
   "source": [
    "answer[1851][1].argmax()"
   ]
  },
  {
   "cell_type": "code",
   "execution_count": null,
   "id": "8a2f3fbd-6ba2-4a56-a39d-2ca867c6aedf",
   "metadata": {},
   "outputs": [],
   "source": [
    "cos_list = []\n",
    "for i in range(0, len(linear_list)):\n",
    "    cos = cos_sim(linear_list[0], linear_list[i])\n",
    "    cos_list.append(cos)"
   ]
  },
  {
   "cell_type": "code",
   "execution_count": null,
   "id": "42cd69b6-b8c9-4a9c-8835-51372f4d315e",
   "metadata": {},
   "outputs": [],
   "source": [
    "cos_list.index(sorted(cos_list)[-2])"
   ]
  },
  {
   "cell_type": "code",
   "execution_count": null,
   "id": "a20c60b9-fcea-4f47-bfcf-d1eef13807f4",
   "metadata": {},
   "outputs": [],
   "source": [
    "answer[0][1].argmax()"
   ]
  },
  {
   "cell_type": "code",
   "execution_count": null,
   "id": "136a9176-21bc-450f-a607-fb3186a724ad",
   "metadata": {},
   "outputs": [],
   "source": [
    "answer[174006][1].argmax()"
   ]
  },
  {
   "cell_type": "code",
   "execution_count": null,
   "id": "67a9cf62-9312-43fd-ac69-efb90a4f9683",
   "metadata": {},
   "outputs": [],
   "source": [
    "linear_list[0]"
   ]
  },
  {
   "cell_type": "code",
   "execution_count": null,
   "id": "fea2ad79-daa4-4cfe-9f1c-312eba1df5db",
   "metadata": {},
   "outputs": [],
   "source": [
    "knob"
   ]
  },
  {
   "cell_type": "code",
   "execution_count": null,
   "id": "c7cae686-f1c8-44e1-b7b3-66ba323001db",
   "metadata": {},
   "outputs": [],
   "source": [
    "linear_list[0] * knob"
   ]
  },
  {
   "cell_type": "code",
   "execution_count": null,
   "id": "20aabc6d-07b5-463d-9f6a-392a135a7d6e",
   "metadata": {},
   "outputs": [],
   "source": [
    "import matplotlib.pyplot as plt"
   ]
  },
  {
   "cell_type": "code",
   "execution_count": null,
   "id": "b53d51a5-dc30-4e27-ad0b-06dc31471706",
   "metadata": {},
   "outputs": [],
   "source": [
    "plt.plot(linear_list[0])"
   ]
  },
  {
   "cell_type": "code",
   "execution_count": null,
   "id": "11eb8a14-b45a-4e80-8ce1-bac71685bcb7",
   "metadata": {},
   "outputs": [],
   "source": [
    "plt.plot(linear_list[20])"
   ]
  },
  {
   "cell_type": "code",
   "execution_count": null,
   "id": "5be3d775-674b-460e-9068-260cc33b7952",
   "metadata": {},
   "outputs": [],
   "source": [
    "cos_sim(linear[0][0],linear[0][1])"
   ]
  },
  {
   "cell_type": "code",
   "execution_count": null,
   "id": "3d26bbf3-5654-4f1d-91e6-938b00ff273d",
   "metadata": {},
   "outputs": [],
   "source": [
    "cos_list = []\n",
    "for i in range(0, len(linear_list)):\n",
    "    cos = cos_sim(linear_list[0], linear_list[i])\n",
    "    cos_list.append(cos)"
   ]
  },
  {
   "cell_type": "code",
   "execution_count": null,
   "id": "0585575f-b12f-41aa-ad59-416a0b91abc5",
   "metadata": {},
   "outputs": [],
   "source": [
    "temp_knob"
   ]
  },
  {
   "cell_type": "code",
   "execution_count": null,
   "id": "b41763d9-118a-4d09-9ed5-99126310665a",
   "metadata": {},
   "outputs": [],
   "source": [
    "a = softmax(linear[0][0]) * temp_knob"
   ]
  },
  {
   "cell_type": "code",
   "execution_count": null,
   "id": "b9078d37-7215-40cb-bded-c2c03cf91b0a",
   "metadata": {},
   "outputs": [],
   "source": [
    "temp_knob = np.zeros((30))\n",
    "temp_knob[3] = 1"
   ]
  },
  {
   "cell_type": "code",
   "execution_count": null,
   "id": "ff8323ac-aa92-4c97-999c-f98eaef2a97d",
   "metadata": {},
   "outputs": [],
   "source": [
    "temp_cos = []\n",
    "for i in range(0, len(linear_list)):\n",
    "    cos = cos_sim(a, linear_list[i])\n",
    "    temp_cos.append(cos)"
   ]
  },
  {
   "cell_type": "code",
   "execution_count": null,
   "id": "4482259e-4b9c-4189-92fc-c02bad9c39bb",
   "metadata": {},
   "outputs": [],
   "source": [
    "temp_cos.index(sorted(temp_cos)[-2])"
   ]
  },
  {
   "cell_type": "code",
   "execution_count": null,
   "id": "778a26de-982c-41de-81e2-9b70e24a01ce",
   "metadata": {},
   "outputs": [],
   "source": [
    "answer[145091][1].argmax()"
   ]
  },
  {
   "cell_type": "code",
   "execution_count": null,
   "id": "64cc4401-b36a-4857-b410-08080b41288c",
   "metadata": {},
   "outputs": [],
   "source": [
    "a"
   ]
  },
  {
   "cell_type": "code",
   "execution_count": null,
   "id": "6e6e097f-7dbb-44b4-a148-c806e795efc8",
   "metadata": {},
   "outputs": [],
   "source": []
  },
  {
   "cell_type": "code",
   "execution_count": null,
   "id": "f3cb9e3e-b987-4709-bbde-f73dce92f4dc",
   "metadata": {},
   "outputs": [],
   "source": [
    "temp_cos = []\n",
    "for i in range(0, len(linear_list)):\n",
    "    cos = cos_sim(a, linear_list[i])\n",
    "    temp_cos.append(cos)\n",
    "    \n",
    "temp_cos.index(sorted(temp_cos)[-2])"
   ]
  },
  {
   "cell_type": "code",
   "execution_count": null,
   "id": "baf8f1b9-4e4a-473b-a8aa-49dead343575",
   "metadata": {},
   "outputs": [],
   "source": [
    "answer[52746][1].argmax()"
   ]
  },
  {
   "cell_type": "code",
   "execution_count": null,
   "id": "2178ddcc-342b-43c6-ba6b-6bb490d4c959",
   "metadata": {},
   "outputs": [],
   "source": [
    "linear[0][1].argmax()"
   ]
  },
  {
   "cell_type": "code",
   "execution_count": null,
   "id": "213946a3-027f-4408-8b48-535e6645f6c6",
   "metadata": {},
   "outputs": [],
   "source": [
    "temp_knob"
   ]
  },
  {
   "cell_type": "code",
   "execution_count": null,
   "id": "c4da0bf5-59c9-4460-8dc4-48569ba1433e",
   "metadata": {},
   "outputs": [],
   "source": [
    "linear[145091][0]"
   ]
  },
  {
   "cell_type": "code",
   "execution_count": null,
   "id": "44fe4ddc-0810-4062-9585-a93e861b35e0",
   "metadata": {},
   "outputs": [],
   "source": [
    "a"
   ]
  },
  {
   "cell_type": "code",
   "execution_count": null,
   "id": "a28177f5-378f-4634-b94e-6e4b77ea8e6e",
   "metadata": {},
   "outputs": [],
   "source": [
    "def jaccard(list1, list2):\n",
    "    intersection = len(list(set(list1).intersection(list2)))\n",
    "    union = (len(list1) + len(list2)) - intersection\n",
    "    return float(intersection) / union"
   ]
  },
  {
   "cell_type": "code",
   "execution_count": null,
   "id": "8df741b5-c603-47cf-bde4-b20abfc9de9f",
   "metadata": {},
   "outputs": [],
   "source": [
    "a"
   ]
  },
  {
   "cell_type": "code",
   "execution_count": null,
   "id": "ea8dbc38-2b1f-4138-991e-32cff97c9e6e",
   "metadata": {},
   "outputs": [],
   "source": [
    "linear_list[1].sum()"
   ]
  },
  {
   "cell_type": "code",
   "execution_count": null,
   "id": "9badfa75-86db-4d3e-93ab-f71e195e3939",
   "metadata": {},
   "outputs": [],
   "source": [
    "temp_jaccard = []\n",
    "for i in range(0, len(linear_list)):\n",
    "    cos = jaccard(a, linear_list[i])\n",
    "    temp_jaccard.append(cos)"
   ]
  },
  {
   "cell_type": "code",
   "execution_count": null,
   "id": "6f5d6abd-5820-4c40-91aa-213237224500",
   "metadata": {},
   "outputs": [],
   "source": [
    "pip install scipy"
   ]
  },
  {
   "cell_type": "code",
   "execution_count": null,
   "id": "377d44c5-a8be-4f1b-9c19-0c7e4096216f",
   "metadata": {},
   "outputs": [],
   "source": [
    "import scipy\n",
    "import numpy as np"
   ]
  },
  {
   "cell_type": "code",
   "execution_count": null,
   "id": "a3dcfc0b-c135-48ef-a792-1c4f09b79edc",
   "metadata": {},
   "outputs": [],
   "source": [
    "a = np.array([ 0.        , -0.        ,  0.        , -8.32216263, -0.        ,\n",
    "       -0.        , -0.        ,  0.        ,  0.        , -0.        ,\n",
    "       -0.        ,  0.        , -0.        , -0.        , -0.        ,\n",
    "       -0.        , -0.        , -0.        , -0.        , -0.        ,\n",
    "       -0.        , -0.        , -0.        , -0.        , -0.        ,\n",
    "       -0.        , -0.        , -0.        , -0.        , -0.        ])"
   ]
  },
  {
   "cell_type": "code",
   "execution_count": null,
   "id": "7a738362-4cab-4547-b1c0-f33cee1f0eed",
   "metadata": {},
   "outputs": [],
   "source": [
    "b = np.array([ -1.82002723,   2.56267071,  -2.39117432,  -0.03381836,\n",
    "         1.424389  ,  -4.35428524,  -3.56955099,  -4.12682819,\n",
    "        -3.44481683,  -6.05371857, -22.32224274,  -3.35192418,\n",
    "        -4.69356441,  -7.92695808,  -4.27410269,  -2.92182684,\n",
    "        -0.05742344,  -4.08171272,  -2.96780586,  -1.81448281,\n",
    "        -1.07761526,  -4.622262  ,   0.58191574,  -4.31378508,\n",
    "        -2.26041031,  -5.45954609, -22.32127953,  -3.05525255,\n",
    "        -5.72118902,  -2.81810474])"
   ]
  },
  {
   "cell_type": "code",
   "execution_count": null,
   "id": "72390937-d897-4ff6-add4-72c66ca252e5",
   "metadata": {},
   "outputs": [],
   "source": [
    "scipy.spatial.distance.jensenshannon(a,b,axis=0)"
   ]
  },
  {
   "cell_type": "code",
   "execution_count": null,
   "id": "9ab13a03-91be-4682-b7d6-9dbbcdc5bd0c",
   "metadata": {},
   "outputs": [],
   "source": [
    "#!/usr/bin/env python\n",
    "from scipy.stats import entropy\n",
    "from numpy.linalg import norm\n",
    "import numpy as np\n",
    "\n",
    "def JSD(P, Q):\n",
    "    _P = P / norm(P, ord=1)\n",
    "    _Q = Q / norm(Q, ord=1)\n",
    "    _M = 0.5 * (_P + _Q)\n",
    "    return 0.5 * (entropy(_P, _M) + entropy(_Q, _M))"
   ]
  },
  {
   "cell_type": "code",
   "execution_count": null,
   "id": "128e9c11-7c37-4add-bf91-b3517e5e5edf",
   "metadata": {},
   "outputs": [],
   "source": [
    "JSD(a,b)"
   ]
  },
  {
   "cell_type": "code",
   "execution_count": null,
   "id": "35b69a28-9cc8-4f82-8e30-113b4c09edce",
   "metadata": {},
   "outputs": [],
   "source": [
    "from math import log2"
   ]
  },
  {
   "cell_type": "code",
   "execution_count": null,
   "id": "7e5f284f-a433-43c4-9cbb-c8fb85e68286",
   "metadata": {},
   "outputs": [],
   "source": [
    "def kl(P,Q):\n",
    "    epsilon = 0.00001\n",
    "\n",
    "     # You may want to instead make copies to avoid changing the np arrays.\n",
    "    P = P+epsilon\n",
    "    Q = Q+epsilon\n",
    "\n",
    "    divergence = np.sum(P*np.log(P/Q))\n",
    "        \n",
    "    return divergence"
   ]
  },
  {
   "cell_type": "code",
   "execution_count": null,
   "id": "5583c392-6adb-4e57-9384-3201815e9e4e",
   "metadata": {},
   "outputs": [],
   "source": []
  },
  {
   "cell_type": "code",
   "execution_count": null,
   "id": "82cd7a1d-d381-423a-a9cf-1b09ada52fab",
   "metadata": {},
   "outputs": [],
   "source": []
  }
 ],
 "metadata": {
  "kernelspec": {
   "display_name": "Python 3 (ipykernel)",
   "language": "python",
   "name": "python3"
  },
  "language_info": {
   "codemirror_mode": {
    "name": "ipython",
    "version": 3
   },
   "file_extension": ".py",
   "mimetype": "text/x-python",
   "name": "python",
   "nbconvert_exporter": "python",
   "pygments_lexer": "ipython3",
   "version": "3.8.10"
  }
 },
 "nbformat": 4,
 "nbformat_minor": 5
}
