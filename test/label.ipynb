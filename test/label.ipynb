{
 "cells": [
  {
   "cell_type": "code",
   "execution_count": 32,
   "id": "ad6a625d-0f68-41d9-9958-4cdf5ccc9aec",
   "metadata": {},
   "outputs": [
    {
     "name": "stderr",
     "output_type": "stream",
     "text": [
      "2022-09-22 01:27:03.015774: W tensorflow/stream_executor/platform/default/dso_loader.cc:64] Could not load dynamic library 'libcudart.so.11.0'; dlerror: libcudart.so.11.0: cannot open shared object file: No such file or directory; LD_LIBRARY_PATH: :/usr/local/lib\n",
      "2022-09-22 01:27:03.045919: E tensorflow/stream_executor/cuda/cuda_blas.cc:2981] Unable to register cuBLAS factory: Attempting to register factory for plugin cuBLAS when one has already been registered\n",
      "2022-09-22 01:27:03.716109: W tensorflow/stream_executor/platform/default/dso_loader.cc:64] Could not load dynamic library 'libnvinfer.so.7'; dlerror: libnvinfer.so.7: cannot open shared object file: No such file or directory; LD_LIBRARY_PATH: :/usr/local/lib\n",
      "2022-09-22 01:27:03.716262: W tensorflow/stream_executor/platform/default/dso_loader.cc:64] Could not load dynamic library 'libnvinfer_plugin.so.7'; dlerror: libnvinfer_plugin.so.7: cannot open shared object file: No such file or directory; LD_LIBRARY_PATH: :/usr/local/lib\n",
      "2022-09-22 01:27:03.716277: W tensorflow/compiler/tf2tensorrt/utils/py_utils.cc:38] TF-TRT Warning: Cannot dlopen some TensorRT libraries. If you would like to use Nvidia GPU with TensorRT, please make sure the missing libraries mentioned above are installed properly.\n",
      "WARNING:absl:GlobalAsyncCheckpointManager is not imported correctly. Checkpointing of GlobalDeviceArrays will not be available.To use the feature, install tensorstore.\n",
      "/usr/local/lib/python3.8/dist-packages/tqdm/auto.py:22: TqdmWarning: IProgress not found. Please update jupyter and ipywidgets. See https://ipywidgets.readthedocs.io/en/stable/user_install.html\n",
      "  from .autonotebook import tqdm as notebook_tqdm\n"
     ]
    }
   ],
   "source": [
    "import flax \n",
    "import flax.linen as nn\n",
    "from flax.training import train_state, checkpoints\n",
    "from flax.core.frozen_dict import unfreeze, freeze\n",
    "\n",
    "from utils.dataloader import mel_dataset\n",
    "from torch.utils.data import DataLoader, random_split\n",
    "\n",
    "import jax\n",
    "import numpy as np\n",
    "import jax.numpy as jnp\n",
    "import optax\n",
    "\n",
    "from torch.utils.tensorboard import SummaryWriter\n",
    "import os\n",
    "from utils.config_hook import yaml_config_hook\n",
    "from tqdm import tqdm\n",
    "\n",
    "import tensorflow as tf\n",
    "import tensorboard as tb\n",
    "tf.io.gfile = tb.compat.tensorflow_stub.io.gfile\n"
   ]
  },
  {
   "cell_type": "code",
   "execution_count": 2,
   "id": "f4cb6196-64d4-412c-b5ea-2daeb93dfda2",
   "metadata": {},
   "outputs": [
    {
     "name": "stdout",
     "output_type": "stream",
     "text": [
      "/home/anthonypark6904\n"
     ]
    }
   ],
   "source": [
    "cd"
   ]
  },
  {
   "cell_type": "code",
   "execution_count": 33,
   "id": "e46665e2-2f9d-4dc3-ae94-148ce664563c",
   "metadata": {},
   "outputs": [
    {
     "name": "stdout",
     "output_type": "stream",
     "text": [
      "Load song_meta.json...\n"
     ]
    },
    {
     "name": "stderr",
     "output_type": "stream",
     "text": [
      "100%|███████████████████████████████| 707989/707989 [00:01<00:00, 469713.55it/s]\n"
     ]
    },
    {
     "name": "stdout",
     "output_type": "stream",
     "text": [
      "Load complete!\n",
      "\n",
      "Load file list...\n"
     ]
    },
    {
     "name": "stderr",
     "output_type": "stream",
     "text": [
      "710it [01:20,  8.83it/s]\n"
     ]
    }
   ],
   "source": [
    "data = mel_dataset('/mnt/disks/sdb/dataset', 'total')"
   ]
  },
  {
   "cell_type": "code",
   "execution_count": 14,
   "id": "927ca4c5-1c3e-4bba-ba12-c79726d36c1d",
   "metadata": {},
   "outputs": [
    {
     "name": "stdout",
     "output_type": "stream",
     "text": [
      "/mnt/disks/sdb/dataset\n"
     ]
    }
   ],
   "source": [
    "cd /mnt/disks/sdb/dataset"
   ]
  },
  {
   "cell_type": "code",
   "execution_count": 15,
   "id": "5e67bf4a-f655-48fb-b028-4c72d3fce237",
   "metadata": {},
   "outputs": [
    {
     "name": "stdout",
     "output_type": "stream",
     "text": [
      "\u001b[0m\u001b[01;34marena_mel\u001b[0m/  song_meta.json\n"
     ]
    }
   ],
   "source": [
    "ls"
   ]
  },
  {
   "cell_type": "code",
   "execution_count": 34,
   "id": "f69c754b-af72-4c88-90e5-d07adef22cae",
   "metadata": {},
   "outputs": [
    {
     "data": {
      "text/plain": [
       "{'GN0900': 0,\n",
       " 'GN1600': 1,\n",
       " 'GN1100': 2,\n",
       " 'GN1800': 3,\n",
       " 'GN1700': 4,\n",
       " 'GN0300': 5,\n",
       " 'GN0100': 6,\n",
       " 'GN1200': 7,\n",
       " 'GN1300': 8,\n",
       " 'GN2700': 9,\n",
       " 'GN2500': 10,\n",
       " 'GN0200': 11,\n",
       " 'GN2800': 12,\n",
       " 'GN0500': 13,\n",
       " 'GN0800': 14,\n",
       " 'GN1900': 15,\n",
       " 'GN1500': 16,\n",
       " 'GN2600': 17,\n",
       " 'GN1000': 18,\n",
       " 'GN1400': 19,\n",
       " 'GN2000': 20,\n",
       " 'GN2100': 21,\n",
       " 'GN2200': 22,\n",
       " 'GN0600': 23,\n",
       " 'GN0700': 24,\n",
       " 'GN0400': 25,\n",
       " 'GN2900': 26,\n",
       " 'GN9000': 27,\n",
       " 'GN2300': 28,\n",
       " 'GN2400': 29}"
      ]
     },
     "execution_count": 34,
     "metadata": {},
     "output_type": "execute_result"
    }
   ],
   "source": [
    "data.genre_index"
   ]
  },
  {
   "cell_type": "code",
   "execution_count": 35,
   "id": "d60b3fb5-11cc-4394-bc5f-ee755bc62eff",
   "metadata": {},
   "outputs": [
    {
     "data": {
      "text/plain": [
       "{'GN0900': 64724,\n",
       " 'GN1600': 56203,\n",
       " 'GN1000': 52786,\n",
       " 'GN1100': 49699,\n",
       " 'GN1700': 48143,\n",
       " 'GN1800': 42335,\n",
       " 'GN0100': 41121,\n",
       " 'GN1200': 34851,\n",
       " 'GN1300': 31825,\n",
       " 'GN1500': 27244,\n",
       " 'GN1900': 21096,\n",
       " 'GN2100': 19958,\n",
       " 'GN0300': 16437,\n",
       " 'GN2200': 14463,\n",
       " 'GN2000': 13189,\n",
       " 'GN1400': 12792,\n",
       " 'GN0700': 12457,\n",
       " 'GN0600': 11893,\n",
       " 'GN0200': 11591,\n",
       " 'GN0400': 10551,\n",
       " 'GN0800': 5921,\n",
       " 'GN2600': 3709,\n",
       " 'GN2400': 2222,\n",
       " 'GN9000': 1824,\n",
       " 'GN2800': 1780,\n",
       " 'GN2700': 1335,\n",
       " 'GN2300': 1130,\n",
       " 'GN0500': 16}"
      ]
     },
     "execution_count": 35,
     "metadata": {},
     "output_type": "execute_result"
    }
   ],
   "source": [
    "data.count_dict"
   ]
  },
  {
   "cell_type": "code",
   "execution_count": null,
   "id": "3a4b8341-49d6-4232-81e9-fe2fca03fce2",
   "metadata": {},
   "outputs": [],
   "source": []
  },
  {
   "cell_type": "code",
   "execution_count": 6,
   "id": "70e49bc6-d2cb-4450-9a55-737bd830ad7b",
   "metadata": {},
   "outputs": [],
   "source": [
    "genre_key = {\n",
    "  \"GN0100\": \"발라드\",\n",
    "  \"GN0101\": \"세부장르전체\",\n",
    "  \"GN0102\": \"'80\",\n",
    "  \"GN0103\": \"'90\",\n",
    "  \"GN0104\": \"'00\",\n",
    "  \"GN0105\": \"'10-\",\n",
    "  \"GN0200\": \"댄스\",\n",
    "  \"GN0201\": \"세부장르전체\",\n",
    "  \"GN0202\": \"'80\",\n",
    "  \"GN0203\": \"'90\",\n",
    "  \"GN0204\": \"'00\",\n",
    "  \"GN0205\": \"'10-\",\n",
    "  \"GN0300\": \"랩/힙합\",\n",
    "  \"GN0301\": \"세부장르전체\",\n",
    "  \"GN0302\": \"랩 스타일\",\n",
    "  \"GN0303\": \"보컬 스타일\",\n",
    "  \"GN0304\": \"언더그라운드 힙합\",\n",
    "  \"GN0305\": \"시대별\",\n",
    "  \"GN0400\": \"R&B/Soul\",\n",
    "  \"GN0401\": \"세부장르전체\",\n",
    "  \"GN0402\": \"어반\",\n",
    "  \"GN0403\": \"R&B\",\n",
    "  \"GN0500\": \"인디음악\",\n",
    "  \"GN0501\": \"세부장르전체\",\n",
    "  \"GN0502\": \"포크\",\n",
    "  \"GN0503\": \"록\",\n",
    "  \"GN0504\": \"일렉\",\n",
    "  \"GN0505\": \"힙합\",\n",
    "  \"GN0506\": \"발라드\",\n",
    "  \"GN0507\": \"'90\",\n",
    "  \"GN0508\": \"'00\",\n",
    "  \"GN0509\": \"'10-\",\n",
    "  \"GN0600\": \"록/메탈\",\n",
    "  \"GN0601\": \"세부장르전체\",\n",
    "  \"GN0602\": \"'70\",\n",
    "  \"GN0603\": \"'80\",\n",
    "  \"GN0604\": \"'90\",\n",
    "  \"GN0605\": \"'00\",\n",
    "  \"GN0606\": \"'10-\",\n",
    "  \"GN0700\": \"성인가요\",\n",
    "  \"GN0701\": \"세부장르전체\",\n",
    "  \"GN0702\": \"신세대트로트\",\n",
    "  \"GN0703\": \"전설의트로트\",\n",
    "  \"GN0704\": \"뽕짝트로트\",\n",
    "  \"GN0705\": \"트로트메들리\",\n",
    "  \"GN0706\": \"트로트'60-'70\",\n",
    "  \"GN0707\": \"트로트'80-'90\",\n",
    "  \"GN0708\": \"트로트'00-\",\n",
    "  \"GN0709\": \"성인가요'80-'90\",\n",
    "  \"GN0710\": \"성인가요'00-\",\n",
    "  \"GN0800\": \"포크/블루스\",\n",
    "  \"GN0801\": \"세부장르전체\",\n",
    "  \"GN0802\": \"'60-'70\",\n",
    "  \"GN0803\": \"'80-'90\",\n",
    "  \"GN0804\": \"'00\",\n",
    "  \"GN0805\": \"'10-\",\n",
    "  \"GN0900\": \"POP\",\n",
    "  \"GN0901\": \"세부장르전체\",\n",
    "  \"GN0902\": \"얼터너티브팝\",\n",
    "  \"GN0903\": \"올디스\",\n",
    "  \"GN0904\": \"월드팝\",\n",
    "  \"GN0905\": \"'60-'70\",\n",
    "  \"GN0906\": \"'80-'90\",\n",
    "  \"GN0907\": \"'00\",\n",
    "  \"GN0908\": \"'10-\",\n",
    "  \"GN1000\": \"록/메탈\",\n",
    "  \"GN1001\": \"세부장르전체\",\n",
    "  \"GN1002\": \"모던록\",\n",
    "  \"GN1003\": \"얼터너티브록\",\n",
    "  \"GN1004\": \"프로그레시브/아트록\",\n",
    "  \"GN1005\": \"하드록\",\n",
    "  \"GN1006\": \"헤비메탈\",\n",
    "  \"GN1007\": \"뉴메탈/하드코어\",\n",
    "  \"GN1008\": \"포스트록\",\n",
    "  \"GN1009\": \"'60\",\n",
    "  \"GN1010\": \"'70\",\n",
    "  \"GN1011\": \"'80\",\n",
    "  \"GN1012\": \"'90\",\n",
    "  \"GN1013\": \"'00\",\n",
    "  \"GN1014\": \"'10-\",\n",
    "  \"GN1100\": \"일렉트로니카\",\n",
    "  \"GN1101\": \"세부장르전체\",\n",
    "  \"GN1102\": \"일렉트로니카\",\n",
    "  \"GN1103\": \"하우스\",\n",
    "  \"GN1104\": \"클럽뮤직\",\n",
    "  \"GN1105\": \"일렉트로닉팝\",\n",
    "  \"GN1106\": \"'80\",\n",
    "  \"GN1107\": \"'90\",\n",
    "  \"GN1108\": \"'00\",\n",
    "  \"GN1109\": \"'10-\",\n",
    "  \"GN1200\": \"랩/힙합\",\n",
    "  \"GN1201\": \"세부장르전체\",\n",
    "  \"GN1202\": \"팝랩\",\n",
    "  \"GN1203\": \"얼터너티브힙합\",\n",
    "  \"GN1204\": \"갱스터/하드코어랩\",\n",
    "  \"GN1205\": \"East&West\",\n",
    "  \"GN1206\": \"'80\",\n",
    "  \"GN1207\": \"'90\",\n",
    "  \"GN1208\": \"'00\",\n",
    "  \"GN1209\": \"'10-\",\n",
    "  \"GN1300\": \"R&B/Soul\",\n",
    "  \"GN1301\": \"세부장르전체\",\n",
    "  \"GN1302\": \"컨템포러리 R&B\",\n",
    "  \"GN1303\": \"소울\",\n",
    "  \"GN1304\": \"어반\",\n",
    "  \"GN1305\": \"'60-'70\",\n",
    "  \"GN1306\": \"'80-'90\",\n",
    "  \"GN1307\": \"'00\",\n",
    "  \"GN1308\": \"'10-\",\n",
    "  \"GN1400\": \"포크/블루스/컨트리\",\n",
    "  \"GN1401\": \"세부장르전체\",\n",
    "  \"GN1402\": \"포크\",\n",
    "  \"GN1403\": \"블루스\",\n",
    "  \"GN1404\": \"컨트리\",\n",
    "  \"GN1405\": \"'60-'70\",\n",
    "  \"GN1406\": \"'80-'90\",\n",
    "  \"GN1407\": \"'00-\",\n",
    "  \"GN1500\": \"OST\",\n",
    "  \"GN1501\": \"세부장르전체\",\n",
    "  \"GN1502\": \"국내영화\",\n",
    "  \"GN1503\": \"국외영화\",\n",
    "  \"GN1504\": \"국내드라마\",\n",
    "  \"GN1505\": \"국외드라마\",\n",
    "  \"GN1506\": \"애니메이션/게임\",\n",
    "  \"GN1507\": \"국내뮤지컬\",\n",
    "  \"GN1508\": \"국외뮤지컬\",\n",
    "  \"GN1509\": \"애니메이션/웹툰\",\n",
    "  \"GN1510\": \"게임\",\n",
    "  \"GN1600\": \"클래식\",\n",
    "  \"GN1601\": \"세부장르전체\",\n",
    "  \"GN1602\": \"관현악\",\n",
    "  \"GN1603\": \"교향곡\",\n",
    "  \"GN1604\": \"실내악\",\n",
    "  \"GN1605\": \"협주곡\",\n",
    "  \"GN1606\": \"독주곡\",\n",
    "  \"GN1607\": \"오페라\",\n",
    "  \"GN1608\": \"크로스오버\",\n",
    "  \"GN1609\": \"현대음악\",\n",
    "  \"GN1610\": \"성악/합창곡\",\n",
    "  \"GN1611\": \"발레/무용\",\n",
    "  \"GN1612\": \"지휘/연주자\",\n",
    "  \"GN1613\": \"컴필레이션\",\n",
    "  \"GN1614\": \"교향/관현악\",\n",
    "  \"GN1615\": \"오페라/성악\",\n",
    "  \"GN1700\": \"재즈\",\n",
    "  \"GN1701\": \"세부장르전체\",\n",
    "  \"GN1702\": \"보컬재즈\",\n",
    "  \"GN1703\": \"애시드/퓨전/팝\",\n",
    "  \"GN1704\": \"Bop\",\n",
    "  \"GN1705\": \"보사노바\",\n",
    "  \"GN1706\": \"J-Jazz\",\n",
    "  \"GN1707\": \"라틴재즈\",\n",
    "  \"GN1708\": \"빅밴드/스윙\",\n",
    "  \"GN1709\": \"악기별\",\n",
    "  \"GN1710\": \"컴필레이션\",\n",
    "  \"GN1800\": \"뉴에이지\",\n",
    "  \"GN1801\": \"세부장르전체\",\n",
    "  \"GN1802\": \"이지리스닝\",\n",
    "  \"GN1803\": \"J-Newage\",\n",
    "  \"GN1804\": \"기능성음악\",\n",
    "  \"GN1805\": \"기타\",\n",
    "  \"GN1806\": \"피아노\",\n",
    "  \"GN1807\": \"컴필레이션\",\n",
    "  \"GN1900\": \"J-POP\",\n",
    "  \"GN1901\": \"세부장르전체\",\n",
    "  \"GN1902\": \"POP\",\n",
    "  \"GN1903\": \"록\",\n",
    "  \"GN1904\": \"일렉트로니카\",\n",
    "  \"GN1905\": \"랩/힙합\",\n",
    "  \"GN1906\": \"R&B/Soul\",\n",
    "  \"GN1907\": \"시부야케이\",\n",
    "  \"GN1908\": \"뉴에이지\",\n",
    "  \"GN1909\": \"재즈\",\n",
    "  \"GN1910\": \"힙합/R&B\",\n",
    "  \"GN1911\": \"'80-'90\",\n",
    "  \"GN1912\": \"'00-'10\",\n",
    "  \"GN2000\": \"월드뮤직\",\n",
    "  \"GN2001\": \"세부장르전체\",\n",
    "  \"GN2002\": \"샹송/프렌치팝\",\n",
    "  \"GN2003\": \"칸초네/이탈리안팝\",\n",
    "  \"GN2004\": \"중국음악\",\n",
    "  \"GN2005\": \"켈틱/아이리시\",\n",
    "  \"GN2006\": \"브라질\",\n",
    "  \"GN2007\": \"탱고/플라멩코\",\n",
    "  \"GN2008\": \"라틴\",\n",
    "  \"GN2009\": \"레게\",\n",
    "  \"GN2010\": \"파두\",\n",
    "  \"GN2100\": \"CCM\",\n",
    "  \"GN2101\": \"세부장르전체\",\n",
    "  \"GN2102\": \"국내CCM\",\n",
    "  \"GN2103\": \"국외CCM\",\n",
    "  \"GN2104\": \"워십\",\n",
    "  \"GN2105\": \"찬송가\",\n",
    "  \"GN2106\": \"성가\",\n",
    "  \"GN2107\": \"연주곡\",\n",
    "  \"GN2108\": \"어린이\",\n",
    "  \"GN2109\": \"성경\",\n",
    "  \"GN2110\": \"NEW\",\n",
    "  \"GN2200\": \"어린이/태교\",\n",
    "  \"GN2201\": \"유아동요\",\n",
    "  \"GN2202\": \"창작동요\",\n",
    "  \"GN2203\": \"영어동요\",\n",
    "  \"GN2204\": \"영어동요\",\n",
    "  \"GN2205\": \"영어동요\",\n",
    "  \"GN2206\": \"영어동화\",\n",
    "  \"GN2207\": \"만화\",\n",
    "  \"GN2208\": \"자장가\",\n",
    "  \"GN2209\": \"태교동화\",\n",
    "  \"GN2210\": \"태교\",\n",
    "  \"GN2211\": \"릴렉싱&힐링\",\n",
    "  \"GN2212\": \"명작동화\",\n",
    "  \"GN2213\": \"교과서동요\",\n",
    "  \"GN2214\": \"전래동요\",\n",
    "  \"GN2215\": \"창작동화\",\n",
    "  \"GN2216\": \"어린이클래식\",\n",
    "  \"GN2300\": \"종교음악\",\n",
    "  \"GN2301\": \"가톨릭\",\n",
    "  \"GN2302\": \"불교\",\n",
    "  \"GN2400\": \"국악\",\n",
    "  \"GN2401\": \"세부장르전체\",\n",
    "  \"GN2402\": \"크로스오버\",\n",
    "  \"GN2403\": \"국악가요\",\n",
    "  \"GN2404\": \"민요\",\n",
    "  \"GN2405\": \"판소리/단가\",\n",
    "  \"GN2406\": \"풍물/사물놀이\",\n",
    "  \"GN2500\": \"아이돌\",\n",
    "  \"GN2501\": \"세부장르전체\",\n",
    "  \"GN2502\": \"남자 아이돌\",\n",
    "  \"GN2503\": \"여자 아이돌\",\n",
    "  \"GN2504\": \"랩/힙합\",\n",
    "  \"GN2505\": \"발라드\",\n",
    "  \"GN2506\": \"댄스\",\n",
    "  \"GN2600\": \"일렉트로니카\",\n",
    "  \"GN2601\": \"세부장르전체\",\n",
    "  \"GN2602\": \"댄스 스타일\",\n",
    "  \"GN2603\": \"팝 스타일\",\n",
    "  \"GN2604\": \"시대별\",\n",
    "  \"GN2700\": \"EDM\",\n",
    "  \"GN2701\": \"세부장르전체\",\n",
    "  \"GN2702\": \"하우스\",\n",
    "  \"GN2703\": \"클럽\",\n",
    "  \"GN2704\": \"DJ\",\n",
    "  \"GN2800\": \"뮤직테라피\",\n",
    "  \"GN2801\": \"세부장르전체\",\n",
    "  \"GN2802\": \"ASMR/자연\",\n",
    "  \"GN2803\": \"힐링/명상/요가\",\n",
    "  \"GN2804\": \"집중력\",\n",
    "  \"GN2805\": \"숙면유도\",\n",
    "  \"GN2806\": \"반려동물\",\n",
    "  \"GN2900\": \"뮤지컬\",\n",
    "  \"GN2901\": \"세부장르전체\",\n",
    "  \"GN2902\": \"국내뮤지컬\",\n",
    "  \"GN2903\": \"국외뮤지컬\",\n",
    "  \"GN3000\": \"크리스마스\",\n",
    "  \"GN9000\":\"nan\"\n",
    "}\n"
   ]
  },
  {
   "cell_type": "code",
   "execution_count": 7,
   "id": "623a6a47-f5fa-4b65-8dfa-a52d3ffc520b",
   "metadata": {},
   "outputs": [
    {
     "ename": "FileNotFoundError",
     "evalue": "[Errno 2] No such file or directory: 'linear_array.npy'",
     "output_type": "error",
     "traceback": [
      "\u001b[0;31m---------------------------------------------------------------------------\u001b[0m",
      "\u001b[0;31mFileNotFoundError\u001b[0m                         Traceback (most recent call last)",
      "Cell \u001b[0;32mIn [7], line 1\u001b[0m\n\u001b[0;32m----> 1\u001b[0m linear \u001b[38;5;241m=\u001b[39m \u001b[43mnp\u001b[49m\u001b[38;5;241;43m.\u001b[39;49m\u001b[43mload\u001b[49m\u001b[43m(\u001b[49m\u001b[38;5;124;43m'\u001b[39;49m\u001b[38;5;124;43mlinear_array.npy\u001b[39;49m\u001b[38;5;124;43m'\u001b[39;49m\u001b[43m)\u001b[49m\n",
      "File \u001b[0;32m~/.local/lib/python3.8/site-packages/numpy/lib/npyio.py:390\u001b[0m, in \u001b[0;36mload\u001b[0;34m(file, mmap_mode, allow_pickle, fix_imports, encoding)\u001b[0m\n\u001b[1;32m    388\u001b[0m     own_fid \u001b[38;5;241m=\u001b[39m \u001b[38;5;28;01mFalse\u001b[39;00m\n\u001b[1;32m    389\u001b[0m \u001b[38;5;28;01melse\u001b[39;00m:\n\u001b[0;32m--> 390\u001b[0m     fid \u001b[38;5;241m=\u001b[39m stack\u001b[38;5;241m.\u001b[39menter_context(\u001b[38;5;28;43mopen\u001b[39;49m\u001b[43m(\u001b[49m\u001b[43mos_fspath\u001b[49m\u001b[43m(\u001b[49m\u001b[43mfile\u001b[49m\u001b[43m)\u001b[49m\u001b[43m,\u001b[49m\u001b[43m \u001b[49m\u001b[38;5;124;43m\"\u001b[39;49m\u001b[38;5;124;43mrb\u001b[39;49m\u001b[38;5;124;43m\"\u001b[39;49m\u001b[43m)\u001b[49m)\n\u001b[1;32m    391\u001b[0m     own_fid \u001b[38;5;241m=\u001b[39m \u001b[38;5;28;01mTrue\u001b[39;00m\n\u001b[1;32m    393\u001b[0m \u001b[38;5;66;03m# Code to distinguish from NumPy binary files and pickles.\u001b[39;00m\n",
      "\u001b[0;31mFileNotFoundError\u001b[0m: [Errno 2] No such file or directory: 'linear_array.npy'"
     ]
    }
   ],
   "source": [
    "linear = np.load('linear_array.npy')"
   ]
  },
  {
   "cell_type": "code",
   "execution_count": null,
   "id": "8d0f2377-4be1-45b8-a6ec-02bfc14a7590",
   "metadata": {},
   "outputs": [],
   "source": [
    "data.genre_keys"
   ]
  },
  {
   "cell_type": "code",
   "execution_count": null,
   "id": "057df825-8d82-4174-a030-a5f0defe856f",
   "metadata": {},
   "outputs": [],
   "source": [
    "dic = {k:genre_key[v] for k,v in data.genre_keys.items()}\n",
    "dic "
   ]
  },
  {
   "cell_type": "code",
   "execution_count": null,
   "id": "5dc3442d-1b2c-488d-964f-d2b812339403",
   "metadata": {},
   "outputs": [],
   "source": []
  },
  {
   "cell_type": "code",
   "execution_count": null,
   "id": "c1328902-aa73-4ff6-8daf-0ec55c8467d0",
   "metadata": {},
   "outputs": [],
   "source": [
    "data.sort_dict"
   ]
  },
  {
   "cell_type": "code",
   "execution_count": null,
   "id": "55a1ddf0-71d5-451d-a0c6-42ef2edb6185",
   "metadata": {},
   "outputs": [],
   "source": [
    "# count = 0\n",
    "answer = 0\n",
    "inference_genre = {}\n",
    "answer_genre = {}\n",
    "etc = 0\n",
    "for i in linear:\n",
    "#     print(f'inference : {np.argmax(i[0])}, {genre_key[data.genre_keys[np.argmax(i[0])]]}')\n",
    "#     print(f'Answer : {np.argmax(i[1])}, {genre_key[data.genre_keys[np.argmax(i[1])]]}\\n')\n",
    "    \n",
    "    if np.argmax(i[1])== np.argmax(i[0]):\n",
    "        answer += 1\n",
    "    try:    \n",
    "        inference_genre[genre_key[data.genre_keys[np.argmax(i[0])]]] += 1\n",
    "    except:\n",
    "        try:\n",
    "            inference_genre[genre_key[data.genre_keys[np.argmax(i[0])]]] = 0 \n",
    "        except:\n",
    "            etc += 1\n",
    "            # print(data.genre_keys[np.argmax(i[1])])\n",
    "            # print(i[1])\n",
    "            # print(i[0])\n",
    "            # print(np.argmax(i[0]))\n",
    "        \n",
    "    try:    \n",
    "        answer_genre[genre_key[data.genre_keys[np.argmax(i[1])]]] += 1\n",
    "    except:\n",
    "        try:\n",
    "            answer_genre[genre_key[data.genre_keys[np.argmax(i[1])]]] = 0 \n",
    "        except:\n",
    "            etc += 1\n",
    "            # print(data.genre_keys[np.argmax(i[1])])\n",
    "            # print(i[1])\n",
    "            # print(i[0])\n",
    "            # print(np.argmax(i[0]))\n",
    "print(f'etc count {etc}')\n",
    "    # if count == 100:\n",
    "        # break"
   ]
  },
  {
   "cell_type": "code",
   "execution_count": null,
   "id": "73aed7d4-ec44-4ae0-84ac-fb354e785910",
   "metadata": {},
   "outputs": [],
   "source": [
    "print(inference_genre)\n",
    "print()\n",
    "print(answer_genre)"
   ]
  },
  {
   "cell_type": "code",
   "execution_count": null,
   "id": "59c064ca-46b0-4b98-923c-d5f8bb02adad",
   "metadata": {},
   "outputs": [],
   "source": [
    "total_diff = {}\n",
    "for key in inference_genre:\n",
    "    total_diff[key] = inference_genre[key] - answer_genre[key]"
   ]
  },
  {
   "cell_type": "code",
   "execution_count": null,
   "id": "8761ff20-d5f4-4963-b215-faa00e2af683",
   "metadata": {},
   "outputs": [],
   "source": [
    "total_diff"
   ]
  },
  {
   "cell_type": "code",
   "execution_count": null,
   "id": "b84aad5a-f7ee-42bb-88ec-f9d60cd71073",
   "metadata": {},
   "outputs": [],
   "source": [
    "\n",
    "\"GN1500\": \"OST\",\n",
    "\"GN2100\": \"CCM”,  \n",
    "\"GN1900\": \"J-POP\",\n",
    "\"GN9000\":\"nan\"\n",
    "\"GN2000\": \"월드뮤직\",\n",
    "'GN2300'\n",
    "'GN2800'\n"
   ]
  },
  {
   "cell_type": "code",
   "execution_count": null,
   "id": "b59eb649-9f75-4074-ac69-f2a647d79f08",
   "metadata": {},
   "outputs": [],
   "source": [
    "data.sort_dict"
   ]
  },
  {
   "cell_type": "code",
   "execution_count": null,
   "id": "f5ec0e84-4955-4210-b74c-d0928a3d9df5",
   "metadata": {},
   "outputs": [],
   "source": [
    "import matplotlib.pyplot as plt"
   ]
  },
  {
   "cell_type": "code",
   "execution_count": null,
   "id": "2e11e851-d1fc-4ecf-b17c-e4e4ad7715c3",
   "metadata": {},
   "outputs": [],
   "source": [
    "plt.bar(range(len(inference_genre)), inference_genre.values())"
   ]
  },
  {
   "cell_type": "code",
   "execution_count": null,
   "id": "8b9d3da7-88b4-4638-85f1-399897341a09",
   "metadata": {},
   "outputs": [],
   "source": [
    "inference_genre.keys()"
   ]
  },
  {
   "cell_type": "code",
   "execution_count": null,
   "id": "13b178a3",
   "metadata": {},
   "outputs": [],
   "source": [
    "answer_genre"
   ]
  },
  {
   "cell_type": "code",
   "execution_count": null,
   "id": "ae0f2017-49f6-48eb-bf93-97b8d712d32b",
   "metadata": {},
   "outputs": [],
   "source": [
    "del answer_genre['종교음악']"
   ]
  },
  {
   "cell_type": "code",
   "execution_count": null,
   "id": "274bc3fe-a9f0-46c4-bc92-c84e45799219",
   "metadata": {},
   "outputs": [],
   "source": [
    "answer_genre"
   ]
  },
  {
   "cell_type": "code",
   "execution_count": null,
   "id": "f3ffbe4b-8b49-4336-b76f-630c2447f430",
   "metadata": {},
   "outputs": [],
   "source": [
    "label = [data.genre_keys[np.argmax(y)] for x, y in data]                                       \n",
    "writer = SummaryWriter('SimCLR_64_linear')\n",
    "writer.add_embedding(embed_list, metadata=label)\n",
    "writer.close()"
   ]
  },
  {
   "cell_type": "code",
   "execution_count": null,
   "id": "e73dd01a-1662-4898-925f-8935e2ce95ba",
   "metadata": {},
   "outputs": [],
   "source": [
    "data.sort_dict"
   ]
  },
  {
   "cell_type": "code",
   "execution_count": null,
   "id": "40b0efac-706a-42ee-8a74-ee7f2b48d99e",
   "metadata": {},
   "outputs": [],
   "source": [
    "f = data.sort_dict"
   ]
  },
  {
   "cell_type": "code",
   "execution_count": null,
   "id": "dcb55922-62cd-47ac-9ae2-df599fe04368",
   "metadata": {},
   "outputs": [],
   "source": [
    "f"
   ]
  },
  {
   "cell_type": "code",
   "execution_count": null,
   "id": "fbd064ea-484d-43e7-8e46-0a2871f4d9fd",
   "metadata": {},
   "outputs": [],
   "source": [
    "drop = ('GN9000', 'GN2300')"
   ]
  },
  {
   "cell_type": "code",
   "execution_count": null,
   "id": "16dad8f9-a990-4f0b-b542-446f6a3cd7ca",
   "metadata": {},
   "outputs": [],
   "source": [
    "f"
   ]
  },
  {
   "cell_type": "code",
   "execution_count": null,
   "id": "6967c629-3bcb-4984-a4b1-c5a2595585c6",
   "metadata": {},
   "outputs": [],
   "source": [
    "drop = ('GN9000', 'GN2300')\n",
    "\n",
    "for key in drop:\n",
    "    f.pop(key, None)"
   ]
  },
  {
   "cell_type": "code",
   "execution_count": null,
   "id": "3f482951-4057-4b56-a647-7f6ec73a4fe7",
   "metadata": {},
   "outputs": [],
   "source": [
    "f"
   ]
  },
  {
   "cell_type": "code",
   "execution_count": null,
   "id": "e6f135a4-bccf-41c8-816d-e3fc342bdc96",
   "metadata": {},
   "outputs": [],
   "source": [
    "drop = ('GN1500', 'GN2100','GN1900','GN9000','GN2000','GN2300','GN2800')"
   ]
  },
  {
   "cell_type": "code",
   "execution_count": null,
   "id": "a335be69-6cd9-4aed-b5a3-8fce4320f553",
   "metadata": {},
   "outputs": [],
   "source": [
    "drop = ('GN1500', 'GN2100','GN1900','GN9000','GN2000','GN2300','GN2800')\n",
    "for key in drop:\n",
    "    data.sort_dict.pop(key, None)"
   ]
  },
  {
   "cell_type": "code",
   "execution_count": 31,
   "id": "10a165dd-4d0d-489d-a310-a5de461d12f4",
   "metadata": {},
   "outputs": [
    {
     "ename": "NameError",
     "evalue": "name 'data' is not defined",
     "output_type": "error",
     "traceback": [
      "\u001b[0;31m---------------------------------------------------------------------------\u001b[0m",
      "\u001b[0;31mNameError\u001b[0m                                 Traceback (most recent call last)",
      "Cell \u001b[0;32mIn [31], line 1\u001b[0m\n\u001b[0;32m----> 1\u001b[0m \u001b[43mdata\u001b[49m\u001b[38;5;241m.\u001b[39msort_dict\n",
      "\u001b[0;31mNameError\u001b[0m: name 'data' is not defined"
     ]
    }
   ],
   "source": [
    "data.sort_dict"
   ]
  },
  {
   "cell_type": "code",
   "execution_count": null,
   "id": "99cd146d-7406-4cca-be18-3d2cc64f82de",
   "metadata": {},
   "outputs": [],
   "source": [
    "\"GN1500\": \"OST\",\n",
    "\"GN2100\": \"CCM”,  \n",
    "\"GN1900\": \"J-POP\",\n",
    "\"GN9000\":\"nan\"\n",
    "\"GN2000\": \"월드뮤직\",\n",
    "'GN2300'\n",
    "'GN2800'"
   ]
  },
  {
   "cell_type": "code",
   "execution_count": 30,
   "id": "184455ff-01d5-4dba-96ec-d44fcc016435",
   "metadata": {},
   "outputs": [
    {
     "data": {
      "text/plain": [
       "{'GN0900': 0,\n",
       " 'GN1600': 1,\n",
       " 'GN1000': 2,\n",
       " 'GN1100': 3,\n",
       " 'GN1700': 4,\n",
       " 'GN1800': 5,\n",
       " 'GN0100': 6,\n",
       " 'GN1200': 7,\n",
       " 'GN1300': 8,\n",
       " 'GN1500': 9,\n",
       " 'GN1900': 10,\n",
       " 'GN2100': 11,\n",
       " 'GN0300': 12,\n",
       " 'GN2200': 13,\n",
       " 'GN2000': 14,\n",
       " 'GN1400': 15,\n",
       " 'GN0700': 16,\n",
       " 'GN0600': 17,\n",
       " 'GN0200': 18,\n",
       " 'GN0400': 19,\n",
       " 'GN0800': 20,\n",
       " 'GN2600': 21,\n",
       " 'GN2400': 22,\n",
       " 'GN9000': 23,\n",
       " 'GN2800': 24,\n",
       " 'GN2700': 25,\n",
       " 'GN2300': 26,\n",
       " 'GN0500': 27}"
      ]
     },
     "execution_count": 30,
     "metadata": {},
     "output_type": "execute_result"
    }
   ],
   "source": [
    "data.sort_dict"
   ]
  },
  {
   "cell_type": "code",
   "execution_count": 12,
   "id": "1174e89e-7496-42cc-b1fa-8ae155a8374a",
   "metadata": {},
   "outputs": [],
   "source": [
    "genre_dict = [genre_key[k] for k,v in data.count_dict.items()]"
   ]
  },
  {
   "cell_type": "code",
   "execution_count": 13,
   "id": "6d252271-068b-47cf-9257-1462c07173f4",
   "metadata": {},
   "outputs": [
    {
     "data": {
      "text/plain": [
       "['POP',\n",
       " '클래식',\n",
       " '록/메탈',\n",
       " '일렉트로니카',\n",
       " '재즈',\n",
       " '뉴에이지',\n",
       " '발라드',\n",
       " '랩/힙합',\n",
       " 'R&B/Soul',\n",
       " 'OST',\n",
       " 'J-POP',\n",
       " 'CCM',\n",
       " '랩/힙합',\n",
       " '어린이/태교',\n",
       " '월드뮤직',\n",
       " '포크/블루스/컨트리',\n",
       " '성인가요',\n",
       " '록/메탈',\n",
       " '댄스',\n",
       " 'R&B/Soul',\n",
       " '포크/블루스',\n",
       " '일렉트로니카',\n",
       " '국악',\n",
       " 'nan',\n",
       " '뮤직테라피',\n",
       " 'EDM',\n",
       " '종교음악',\n",
       " '인디음악']"
      ]
     },
     "execution_count": 13,
     "metadata": {},
     "output_type": "execute_result"
    }
   ],
   "source": [
    "genre_dict"
   ]
  },
  {
   "cell_type": "code",
   "execution_count": 5,
   "id": "ff10a8c8-ccd0-42e6-a66f-ed6f9b5a91f7",
   "metadata": {},
   "outputs": [],
   "source": [
    "import os"
   ]
  },
  {
   "cell_type": "code",
   "execution_count": 6,
   "id": "7a73dac2-5660-48dd-9879-3e3af99959fc",
   "metadata": {},
   "outputs": [],
   "source": [
    "meta_file_path = os.path.join('/mnt/disks/sdb/dataset', \"song_meta.json\")\n",
    "if os.path.isfile(meta_file_path):\n",
    "    with open(meta_file_path) as f:\n",
    "        song_meta = json.load(f)"
   ]
  },
  {
   "cell_type": "code",
   "execution_count": 10,
   "id": "59f6dfb1-2f15-4318-8700-1ee9e205f375",
   "metadata": {},
   "outputs": [],
   "source": [
    "import json\n",
    "import pandas as pd"
   ]
  },
  {
   "cell_type": "code",
   "execution_count": 11,
   "id": "0a40f62e-925b-425d-9958-d4ab393bfbea",
   "metadata": {},
   "outputs": [],
   "source": [
    "song_meta = pd.DataFrame(song_meta)"
   ]
  },
  {
   "cell_type": "code",
   "execution_count": 12,
   "id": "4ba42e86-1682-4aa8-b385-e9ae36bdd480",
   "metadata": {},
   "outputs": [
    {
     "data": {
      "text/html": [
       "<div>\n",
       "<style scoped>\n",
       "    .dataframe tbody tr th:only-of-type {\n",
       "        vertical-align: middle;\n",
       "    }\n",
       "\n",
       "    .dataframe tbody tr th {\n",
       "        vertical-align: top;\n",
       "    }\n",
       "\n",
       "    .dataframe thead th {\n",
       "        text-align: right;\n",
       "    }\n",
       "</style>\n",
       "<table border=\"1\" class=\"dataframe\">\n",
       "  <thead>\n",
       "    <tr style=\"text-align: right;\">\n",
       "      <th></th>\n",
       "      <th>song_gn_dtl_gnr_basket</th>\n",
       "      <th>issue_date</th>\n",
       "      <th>album_name</th>\n",
       "      <th>album_id</th>\n",
       "      <th>artist_id_basket</th>\n",
       "      <th>song_name</th>\n",
       "      <th>song_gn_gnr_basket</th>\n",
       "      <th>artist_name_basket</th>\n",
       "      <th>id</th>\n",
       "    </tr>\n",
       "  </thead>\n",
       "  <tbody>\n",
       "    <tr>\n",
       "      <th>0</th>\n",
       "      <td>[GN0901]</td>\n",
       "      <td>20140512</td>\n",
       "      <td>불후의 명곡 - 7080 추억의 얄개시대 팝송베스트</td>\n",
       "      <td>2255639</td>\n",
       "      <td>[2727]</td>\n",
       "      <td>Feelings</td>\n",
       "      <td>[GN0900]</td>\n",
       "      <td>[Various Artists]</td>\n",
       "      <td>0</td>\n",
       "    </tr>\n",
       "    <tr>\n",
       "      <th>1</th>\n",
       "      <td>[GN1601, GN1606]</td>\n",
       "      <td>20080421</td>\n",
       "      <td>Bach : Partitas Nos. 2, 3 &amp; 4</td>\n",
       "      <td>376431</td>\n",
       "      <td>[29966]</td>\n",
       "      <td>Bach : Partita No. 4 In D Major, BWV 828 - II....</td>\n",
       "      <td>[GN1600]</td>\n",
       "      <td>[Murray Perahia]</td>\n",
       "      <td>1</td>\n",
       "    </tr>\n",
       "    <tr>\n",
       "      <th>2</th>\n",
       "      <td>[GN0901]</td>\n",
       "      <td>20180518</td>\n",
       "      <td>Hit</td>\n",
       "      <td>4698747</td>\n",
       "      <td>[3361]</td>\n",
       "      <td>Solsbury Hill (Remastered 2002)</td>\n",
       "      <td>[GN0900]</td>\n",
       "      <td>[Peter Gabriel]</td>\n",
       "      <td>2</td>\n",
       "    </tr>\n",
       "    <tr>\n",
       "      <th>3</th>\n",
       "      <td>[GN1102, GN1101]</td>\n",
       "      <td>20151016</td>\n",
       "      <td>Feeling Right (Everything Is Nice) (Feat. Popc...</td>\n",
       "      <td>2644882</td>\n",
       "      <td>[838543]</td>\n",
       "      <td>Feeling Right (Everything Is Nice) (Feat. Popc...</td>\n",
       "      <td>[GN1100]</td>\n",
       "      <td>[Matoma]</td>\n",
       "      <td>3</td>\n",
       "    </tr>\n",
       "    <tr>\n",
       "      <th>4</th>\n",
       "      <td>[GN1802, GN1801]</td>\n",
       "      <td>20110824</td>\n",
       "      <td>그남자 그여자</td>\n",
       "      <td>2008470</td>\n",
       "      <td>[560160]</td>\n",
       "      <td>그남자 그여자</td>\n",
       "      <td>[GN1800]</td>\n",
       "      <td>[Jude Law]</td>\n",
       "      <td>4</td>\n",
       "    </tr>\n",
       "    <tr>\n",
       "      <th>...</th>\n",
       "      <td>...</td>\n",
       "      <td>...</td>\n",
       "      <td>...</td>\n",
       "      <td>...</td>\n",
       "      <td>...</td>\n",
       "      <td>...</td>\n",
       "      <td>...</td>\n",
       "      <td>...</td>\n",
       "      <td>...</td>\n",
       "    </tr>\n",
       "    <tr>\n",
       "      <th>707984</th>\n",
       "      <td>[GN2001]</td>\n",
       "      <td>19991219</td>\n",
       "      <td>The Best Best Of The Black President</td>\n",
       "      <td>65254</td>\n",
       "      <td>[166499]</td>\n",
       "      <td>Coffin For Head Of State</td>\n",
       "      <td>[GN2000]</td>\n",
       "      <td>[Fela Kuti]</td>\n",
       "      <td>707984</td>\n",
       "    </tr>\n",
       "    <tr>\n",
       "      <th>707985</th>\n",
       "      <td>[GN0901]</td>\n",
       "      <td>19860000</td>\n",
       "      <td>True Colors</td>\n",
       "      <td>44141</td>\n",
       "      <td>[11837]</td>\n",
       "      <td>Change Of Heart</td>\n",
       "      <td>[GN0900]</td>\n",
       "      <td>[Cyndi Lauper]</td>\n",
       "      <td>707985</td>\n",
       "    </tr>\n",
       "    <tr>\n",
       "      <th>707986</th>\n",
       "      <td>[GN0105, GN0101]</td>\n",
       "      <td>20160120</td>\n",
       "      <td>행보 2015 윤종신 / 작사가 윤종신 Live Part.1</td>\n",
       "      <td>2662866</td>\n",
       "      <td>[437]</td>\n",
       "      <td>스치듯 안녕</td>\n",
       "      <td>[GN0100]</td>\n",
       "      <td>[윤종신]</td>\n",
       "      <td>707986</td>\n",
       "    </tr>\n",
       "    <tr>\n",
       "      <th>707987</th>\n",
       "      <td>[GN1807, GN1801]</td>\n",
       "      <td>20131217</td>\n",
       "      <td>명상의 시간을 위한 뉴에이지 음악</td>\n",
       "      <td>2221722</td>\n",
       "      <td>[729868]</td>\n",
       "      <td>숲의 빛</td>\n",
       "      <td>[GN1800]</td>\n",
       "      <td>[Nature Piano]</td>\n",
       "      <td>707987</td>\n",
       "    </tr>\n",
       "    <tr>\n",
       "      <th>707988</th>\n",
       "      <td>[GN0601, GN0604]</td>\n",
       "      <td>19980000</td>\n",
       "      <td>김경호 Live</td>\n",
       "      <td>34663</td>\n",
       "      <td>[895]</td>\n",
       "      <td>Queen 명곡 멜로디</td>\n",
       "      <td>[GN0600]</td>\n",
       "      <td>[김경호]</td>\n",
       "      <td>707988</td>\n",
       "    </tr>\n",
       "  </tbody>\n",
       "</table>\n",
       "<p>707989 rows × 9 columns</p>\n",
       "</div>"
      ],
      "text/plain": [
       "       song_gn_dtl_gnr_basket issue_date  \\\n",
       "0                    [GN0901]   20140512   \n",
       "1            [GN1601, GN1606]   20080421   \n",
       "2                    [GN0901]   20180518   \n",
       "3            [GN1102, GN1101]   20151016   \n",
       "4            [GN1802, GN1801]   20110824   \n",
       "...                       ...        ...   \n",
       "707984               [GN2001]   19991219   \n",
       "707985               [GN0901]   19860000   \n",
       "707986       [GN0105, GN0101]   20160120   \n",
       "707987       [GN1807, GN1801]   20131217   \n",
       "707988       [GN0601, GN0604]   19980000   \n",
       "\n",
       "                                               album_name  album_id  \\\n",
       "0                            불후의 명곡 - 7080 추억의 얄개시대 팝송베스트   2255639   \n",
       "1                           Bach : Partitas Nos. 2, 3 & 4    376431   \n",
       "2                                                     Hit   4698747   \n",
       "3       Feeling Right (Everything Is Nice) (Feat. Popc...   2644882   \n",
       "4                                                 그남자 그여자   2008470   \n",
       "...                                                   ...       ...   \n",
       "707984               The Best Best Of The Black President     65254   \n",
       "707985                                        True Colors     44141   \n",
       "707986                  행보 2015 윤종신 / 작사가 윤종신 Live Part.1   2662866   \n",
       "707987                                 명상의 시간을 위한 뉴에이지 음악   2221722   \n",
       "707988                                           김경호 Live     34663   \n",
       "\n",
       "       artist_id_basket                                          song_name  \\\n",
       "0                [2727]                                           Feelings   \n",
       "1               [29966]  Bach : Partita No. 4 In D Major, BWV 828 - II....   \n",
       "2                [3361]                    Solsbury Hill (Remastered 2002)   \n",
       "3              [838543]  Feeling Right (Everything Is Nice) (Feat. Popc...   \n",
       "4              [560160]                                            그남자 그여자   \n",
       "...                 ...                                                ...   \n",
       "707984         [166499]                           Coffin For Head Of State   \n",
       "707985          [11837]                                    Change Of Heart   \n",
       "707986            [437]                                             스치듯 안녕   \n",
       "707987         [729868]                                               숲의 빛   \n",
       "707988            [895]                                       Queen 명곡 멜로디   \n",
       "\n",
       "       song_gn_gnr_basket artist_name_basket      id  \n",
       "0                [GN0900]  [Various Artists]       0  \n",
       "1                [GN1600]   [Murray Perahia]       1  \n",
       "2                [GN0900]    [Peter Gabriel]       2  \n",
       "3                [GN1100]           [Matoma]       3  \n",
       "4                [GN1800]         [Jude Law]       4  \n",
       "...                   ...                ...     ...  \n",
       "707984           [GN2000]        [Fela Kuti]  707984  \n",
       "707985           [GN0900]     [Cyndi Lauper]  707985  \n",
       "707986           [GN0100]              [윤종신]  707986  \n",
       "707987           [GN1800]     [Nature Piano]  707987  \n",
       "707988           [GN0600]              [김경호]  707988  \n",
       "\n",
       "[707989 rows x 9 columns]"
      ]
     },
     "execution_count": 12,
     "metadata": {},
     "output_type": "execute_result"
    }
   ],
   "source": [
    "song_meta"
   ]
  },
  {
   "cell_type": "code",
   "execution_count": 66,
   "id": "a6ba831c-8e10-483c-ad89-04a0b2c3052d",
   "metadata": {},
   "outputs": [
    {
     "data": {
      "text/plain": [
       "0         [GN0900]\n",
       "1         [GN1600]\n",
       "2         [GN0900]\n",
       "3         [GN1100]\n",
       "4         [GN1800]\n",
       "            ...   \n",
       "707984    [GN2000]\n",
       "707985    [GN0900]\n",
       "707986    [GN0100]\n",
       "707987    [GN1800]\n",
       "707988    [GN0600]\n",
       "Name: song_gn_gnr_basket, Length: 707989, dtype: object"
      ]
     },
     "execution_count": 66,
     "metadata": {},
     "output_type": "execute_result"
    }
   ],
   "source": [
    "f['song_gn_gnr_basket']"
   ]
  },
  {
   "cell_type": "code",
   "execution_count": null,
   "id": "c49e6af1-c3ee-495a-b8e8-1709eb012116",
   "metadata": {},
   "outputs": [],
   "source": [
    "\"GN1500\": \"OST\",\n",
    "\"GN2100\": \"CCM”,  \n",
    "\"GN1900\": \"J-POP\",\n",
    "\"GN9000\":\"nan\"\n",
    "\"GN2000\": \"월드뮤직\",\n",
    "'GN2300' \n",
    "'GN2800'"
   ]
  },
  {
   "cell_type": "code",
   "execution_count": 16,
   "id": "3ebf67d3-feaf-438e-95ca-45392f403b43",
   "metadata": {},
   "outputs": [],
   "source": [
    "#GN1500\n",
    "ost_index = []\n",
    "for i in range(len(song_meta['song_gn_gnr_basket'])):\n",
    "    if song_meta['song_gn_gnr_basket'][i]==['GN0600']:\n",
    "        ost_index.append(i)"
   ]
  },
  {
   "cell_type": "code",
   "execution_count": 18,
   "id": "7fb1e865-2c05-4952-814f-9ba52d3ab28f",
   "metadata": {},
   "outputs": [
    {
     "data": {
      "text/plain": [
       "11920"
      ]
     },
     "execution_count": 18,
     "metadata": {},
     "output_type": "execute_result"
    }
   ],
   "source": [
    "len(ost_index)"
   ]
  },
  {
   "cell_type": "code",
   "execution_count": 42,
   "id": "e9434863-23cb-4092-a0a7-fdd523a38bb9",
   "metadata": {},
   "outputs": [
    {
     "data": {
      "text/plain": [
       "707989"
      ]
     },
     "execution_count": 42,
     "metadata": {},
     "output_type": "execute_result"
    }
   ],
   "source": [
    "len(song_meta['song_gn_gnr_basket'])"
   ]
  },
  {
   "cell_type": "code",
   "execution_count": 19,
   "id": "89512fd7-40c2-4216-9d1d-3e27e486840b",
   "metadata": {},
   "outputs": [],
   "source": [
    "#GN2100\n",
    "ccm_index = []\n",
    "for i in range(len(song_meta['song_gn_gnr_basket'])):\n",
    "    if song_meta['song_gn_gnr_basket'][i]==['GN2100']:\n",
    "        ccm_index.append(i)"
   ]
  },
  {
   "cell_type": "code",
   "execution_count": 20,
   "id": "f76e3c72-b09e-41d2-a674-6ebc189ca66a",
   "metadata": {},
   "outputs": [
    {
     "data": {
      "text/plain": [
       "19993"
      ]
     },
     "execution_count": 20,
     "metadata": {},
     "output_type": "execute_result"
    }
   ],
   "source": [
    "len(ccm_index)"
   ]
  },
  {
   "cell_type": "code",
   "execution_count": 21,
   "id": "abe9c9bd-c02c-42f5-a713-e5d22d6f65d3",
   "metadata": {},
   "outputs": [],
   "source": [
    "#GN9000\n",
    "nan_index = []\n",
    "for i in range(len(song_meta['song_gn_gnr_basket'])):\n",
    "    if song_meta['song_gn_gnr_basket'][i]==['GN9000']:\n",
    "        nan_index.append(i)"
   ]
  },
  {
   "cell_type": "code",
   "execution_count": 22,
   "id": "1dd4b197-bc9f-4339-b413-b82d4f5166d5",
   "metadata": {},
   "outputs": [
    {
     "data": {
      "text/plain": [
       "1834"
      ]
     },
     "execution_count": 22,
     "metadata": {},
     "output_type": "execute_result"
    }
   ],
   "source": [
    "len(nan_index)"
   ]
  },
  {
   "cell_type": "code",
   "execution_count": 24,
   "id": "9a36a8bb-0041-4832-b932-4f2f8bdae7bb",
   "metadata": {},
   "outputs": [],
   "source": [
    "#GN2000\n",
    "world_music_index = []\n",
    "for i in range(len(song_meta['song_gn_gnr_basket'])):\n",
    "    if song_meta['song_gn_gnr_basket'][i]==['GN2000']:\n",
    "        world_music_index.append(i)"
   ]
  },
  {
   "cell_type": "code",
   "execution_count": 25,
   "id": "c49bf9b4-3660-4db0-acbb-e57c94ac0683",
   "metadata": {},
   "outputs": [
    {
     "data": {
      "text/plain": [
       "13192"
      ]
     },
     "execution_count": 25,
     "metadata": {},
     "output_type": "execute_result"
    }
   ],
   "source": [
    "len(world_music_index)"
   ]
  },
  {
   "cell_type": "code",
   "execution_count": 29,
   "id": "673d0538-1c9c-49c1-b4b7-56c2d5a3c6f5",
   "metadata": {},
   "outputs": [],
   "source": [
    "#GN2800\n",
    "Music_Therapy_index = []\n",
    "for i in range(len(song_meta['song_gn_gnr_basket'])):\n",
    "     if song_meta['song_gn_gnr_basket'][i]==['GN2800']:\n",
    "        Music_Therapy_index.append(i)"
   ]
  },
  {
   "cell_type": "code",
   "execution_count": 30,
   "id": "dacd3bc1-8a6e-4544-955c-911f80a6c66d",
   "metadata": {},
   "outputs": [
    {
     "data": {
      "text/plain": [
       "1783"
      ]
     },
     "execution_count": 30,
     "metadata": {},
     "output_type": "execute_result"
    }
   ],
   "source": [
    "len(Music_Therapy_index)"
   ]
  },
  {
   "cell_type": "code",
   "execution_count": 40,
   "id": "502de1fe-5e8a-47f4-8a13-7db6b1aa346d",
   "metadata": {},
   "outputs": [],
   "source": [
    "#GN2300 종교음악\n",
    "\n",
    "GN2300_index = []\n",
    "\n",
    "for i in range(len(song_meta['song_gn_gnr_basket'])):\n",
    "     if song_meta['song_gn_gnr_basket'][i]==['GN2300']:\n",
    "        GN2300_index.append(i)"
   ]
  },
  {
   "cell_type": "code",
   "execution_count": 41,
   "id": "4ed2a625-71f8-4752-a7e9-78696ec34dbc",
   "metadata": {},
   "outputs": [
    {
     "data": {
      "text/plain": [
       "1135"
      ]
     },
     "execution_count": 41,
     "metadata": {},
     "output_type": "execute_result"
    }
   ],
   "source": [
    "len(GN2300_index)"
   ]
  },
  {
   "cell_type": "code",
   "execution_count": 39,
   "id": "204e14ee-d9e9-4ece-83d3-3c3f54139d07",
   "metadata": {},
   "outputs": [
    {
     "data": {
      "text/plain": [
       "{'GN0900': 64724,\n",
       " 'GN1600': 56203,\n",
       " 'GN1000': 52786,\n",
       " 'GN1100': 49699,\n",
       " 'GN1700': 48143,\n",
       " 'GN1800': 42335,\n",
       " 'GN0100': 41121,\n",
       " 'GN1200': 34851,\n",
       " 'GN1300': 31825,\n",
       " 'GN1500': 27244,\n",
       " 'GN1900': 21096,\n",
       " 'GN2100': 19958,\n",
       " 'GN0300': 16437,\n",
       " 'GN2200': 14463,\n",
       " 'GN2000': 13189,\n",
       " 'GN1400': 12792,\n",
       " 'GN0700': 12457,\n",
       " 'GN0600': 11893,\n",
       " 'GN0200': 11591,\n",
       " 'GN0400': 10551,\n",
       " 'GN0800': 5921,\n",
       " 'GN2600': 3709,\n",
       " 'GN2400': 2222,\n",
       " 'GN9000': 1824,\n",
       " 'GN2800': 1780,\n",
       " 'GN2700': 1335,\n",
       " 'GN2300': 1130,\n",
       " 'GN0500': 16}"
      ]
     },
     "execution_count": 39,
     "metadata": {},
     "output_type": "execute_result"
    }
   ],
   "source": [
    "data.count_dict"
   ]
  },
  {
   "cell_type": "code",
   "execution_count": null,
   "id": "4bebc073-4333-4d3b-9217-9732ae5599cd",
   "metadata": {},
   "outputs": [],
   "source": []
  }
 ],
 "metadata": {
  "kernelspec": {
   "display_name": "Python 3 (ipykernel)",
   "language": "python",
   "name": "python3"
  },
  "language_info": {
   "codemirror_mode": {
    "name": "ipython",
    "version": 3
   },
   "file_extension": ".py",
   "mimetype": "text/x-python",
   "name": "python",
   "nbconvert_exporter": "python",
   "pygments_lexer": "ipython3",
   "version": "3.8.10"
  }
 },
 "nbformat": 4,
 "nbformat_minor": 5
}
